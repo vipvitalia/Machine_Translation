{
  "nbformat": 4,
  "nbformat_minor": 0,
  "metadata": {
    "kernelspec": {
      "display_name": "Python 3",
      "language": "python",
      "name": "python3"
    },
    "language_info": {
      "codemirror_mode": {
        "name": "ipython",
        "version": 3
      },
      "file_extension": ".py",
      "mimetype": "text/x-python",
      "name": "python",
      "nbconvert_exporter": "python",
      "pygments_lexer": "ipython3",
      "version": "3.7.7"
    },
    "colab": {
      "name": "LSTM_ru-en_with_time.ipynb",
      "provenance": [],
      "collapsed_sections": []
    }
  },
  "cells": [
    {
      "cell_type": "code",
      "metadata": {
        "id": "5LAfE2SHft3V",
        "colab_type": "code",
        "colab": {
          "base_uri": "https://localhost:8080/",
          "height": 118
        },
        "outputId": "7ee330e1-1891-44d6-c33a-23e546b0dc7d"
      },
      "source": [
        "from google.colab import drive\n",
        "drive.mount('/content/drive')"
      ],
      "execution_count": null,
      "outputs": [
        {
          "output_type": "stream",
          "text": [
            "Go to this URL in a browser: https://accounts.google.com/o/oauth2/auth?client_id=947318989803-6bn6qk8qdgf4n4g3pfee6491hc0brc4i.apps.googleusercontent.com&redirect_uri=urn%3aietf%3awg%3aoauth%3a2.0%3aoob&response_type=code&scope=email%20https%3a%2f%2fwww.googleapis.com%2fauth%2fdocs.test%20https%3a%2f%2fwww.googleapis.com%2fauth%2fdrive%20https%3a%2f%2fwww.googleapis.com%2fauth%2fdrive.photos.readonly%20https%3a%2f%2fwww.googleapis.com%2fauth%2fpeopleapi.readonly\n",
            "\n",
            "Enter your authorization code:\n",
            "··········\n",
            "Mounted at /content/drive\n"
          ],
          "name": "stdout"
        }
      ]
    },
    {
      "cell_type": "code",
      "metadata": {
        "id": "NVPOFaaZ38qB",
        "colab_type": "code",
        "colab": {
          "base_uri": "https://localhost:8080/",
          "height": 32
        },
        "outputId": "5211a604-0f07-4b66-d249-120d2b95f394"
      },
      "source": [
        "!git clone https://github.com/wl-research/nubia.git\n",
        "import os\n",
        "os.chdir('nubia')"
      ],
      "execution_count": null,
      "outputs": [
        {
          "output_type": "stream",
          "text": [
            "fatal: destination path 'nubia' already exists and is not an empty directory.\n"
          ],
          "name": "stdout"
        }
      ]
    },
    {
      "cell_type": "code",
      "metadata": {
        "id": "aVxCYrjn4ETH",
        "colab_type": "code",
        "colab": {
          "base_uri": "https://localhost:8080/",
          "height": 547
        },
        "outputId": "0dc211e5-499e-4522-a1fe-362899ab005a"
      },
      "source": [
        "!pip install -r requirements.txt"
      ],
      "execution_count": null,
      "outputs": [
        {
          "output_type": "stream",
          "text": [
            "Requirement already satisfied: torch>=1.4.0 in /usr/local/lib/python3.6/dist-packages (from -r requirements.txt (line 1)) (1.5.0+cu101)\n",
            "Requirement already satisfied: fairseq in /usr/local/lib/python3.6/dist-packages (from -r requirements.txt (line 2)) (0.9.0)\n",
            "Requirement already satisfied: pytorch-transformers in /usr/local/lib/python3.6/dist-packages (from -r requirements.txt (line 3)) (1.2.0)\n",
            "Requirement already satisfied: numpy>=1.18.2 in /usr/local/lib/python3.6/dist-packages (from -r requirements.txt (line 4)) (1.18.5)\n",
            "Requirement already satisfied: joblib in /usr/local/lib/python3.6/dist-packages (from -r requirements.txt (line 5)) (0.15.1)\n",
            "Requirement already satisfied: scikit-learn>=0.22.2 in /usr/local/lib/python3.6/dist-packages (from -r requirements.txt (line 6)) (0.22.2.post1)\n",
            "Requirement already satisfied: wget in /usr/local/lib/python3.6/dist-packages (from -r requirements.txt (line 7)) (3.2)\n",
            "Requirement already satisfied: future in /usr/local/lib/python3.6/dist-packages (from torch>=1.4.0->-r requirements.txt (line 1)) (0.16.0)\n",
            "Requirement already satisfied: sacrebleu in /usr/local/lib/python3.6/dist-packages (from fairseq->-r requirements.txt (line 2)) (1.4.10)\n",
            "Requirement already satisfied: regex in /usr/local/lib/python3.6/dist-packages (from fairseq->-r requirements.txt (line 2)) (2019.12.20)\n",
            "Requirement already satisfied: tqdm in /usr/local/lib/python3.6/dist-packages (from fairseq->-r requirements.txt (line 2)) (4.41.1)\n",
            "Requirement already satisfied: cffi in /usr/local/lib/python3.6/dist-packages (from fairseq->-r requirements.txt (line 2)) (1.14.0)\n",
            "Requirement already satisfied: cython in /usr/local/lib/python3.6/dist-packages (from fairseq->-r requirements.txt (line 2)) (0.29.19)\n",
            "Requirement already satisfied: sacremoses in /usr/local/lib/python3.6/dist-packages (from pytorch-transformers->-r requirements.txt (line 3)) (0.0.43)\n",
            "Requirement already satisfied: requests in /usr/local/lib/python3.6/dist-packages (from pytorch-transformers->-r requirements.txt (line 3)) (2.23.0)\n",
            "Requirement already satisfied: boto3 in /usr/local/lib/python3.6/dist-packages (from pytorch-transformers->-r requirements.txt (line 3)) (1.13.23)\n",
            "Requirement already satisfied: sentencepiece in /usr/local/lib/python3.6/dist-packages (from pytorch-transformers->-r requirements.txt (line 3)) (0.1.91)\n",
            "Requirement already satisfied: scipy>=0.17.0 in /usr/local/lib/python3.6/dist-packages (from scikit-learn>=0.22.2->-r requirements.txt (line 6)) (1.4.1)\n",
            "Requirement already satisfied: portalocker in /usr/local/lib/python3.6/dist-packages (from sacrebleu->fairseq->-r requirements.txt (line 2)) (1.7.0)\n",
            "Requirement already satisfied: pycparser in /usr/local/lib/python3.6/dist-packages (from cffi->fairseq->-r requirements.txt (line 2)) (2.20)\n",
            "Requirement already satisfied: six in /usr/local/lib/python3.6/dist-packages (from sacremoses->pytorch-transformers->-r requirements.txt (line 3)) (1.12.0)\n",
            "Requirement already satisfied: click in /usr/local/lib/python3.6/dist-packages (from sacremoses->pytorch-transformers->-r requirements.txt (line 3)) (7.1.2)\n",
            "Requirement already satisfied: chardet<4,>=3.0.2 in /usr/local/lib/python3.6/dist-packages (from requests->pytorch-transformers->-r requirements.txt (line 3)) (3.0.4)\n",
            "Requirement already satisfied: certifi>=2017.4.17 in /usr/local/lib/python3.6/dist-packages (from requests->pytorch-transformers->-r requirements.txt (line 3)) (2020.4.5.1)\n",
            "Requirement already satisfied: idna<3,>=2.5 in /usr/local/lib/python3.6/dist-packages (from requests->pytorch-transformers->-r requirements.txt (line 3)) (2.9)\n",
            "Requirement already satisfied: urllib3!=1.25.0,!=1.25.1,<1.26,>=1.21.1 in /usr/local/lib/python3.6/dist-packages (from requests->pytorch-transformers->-r requirements.txt (line 3)) (1.24.3)\n",
            "Requirement already satisfied: s3transfer<0.4.0,>=0.3.0 in /usr/local/lib/python3.6/dist-packages (from boto3->pytorch-transformers->-r requirements.txt (line 3)) (0.3.3)\n",
            "Requirement already satisfied: botocore<1.17.0,>=1.16.23 in /usr/local/lib/python3.6/dist-packages (from boto3->pytorch-transformers->-r requirements.txt (line 3)) (1.16.23)\n",
            "Requirement already satisfied: jmespath<1.0.0,>=0.7.1 in /usr/local/lib/python3.6/dist-packages (from boto3->pytorch-transformers->-r requirements.txt (line 3)) (0.10.0)\n",
            "Requirement already satisfied: docutils<0.16,>=0.10 in /usr/local/lib/python3.6/dist-packages (from botocore<1.17.0,>=1.16.23->boto3->pytorch-transformers->-r requirements.txt (line 3)) (0.15.2)\n",
            "Requirement already satisfied: python-dateutil<3.0.0,>=2.1 in /usr/local/lib/python3.6/dist-packages (from botocore<1.17.0,>=1.16.23->boto3->pytorch-transformers->-r requirements.txt (line 3)) (2.8.1)\n"
          ],
          "name": "stdout"
        }
      ]
    },
    {
      "cell_type": "code",
      "metadata": {
        "ExecuteTime": {
          "end_time": "2020-06-15T12:18:54.691402Z",
          "start_time": "2020-06-15T12:18:46.254594Z"
        },
        "id": "ldJDWGq8fpqG",
        "colab_type": "code",
        "colab": {
          "base_uri": "https://localhost:8080/",
          "height": 32
        },
        "outputId": "f2b52174-c826-4604-b7a7-c59221ddf522"
      },
      "source": [
        "import pandas as pd\n",
        "import numpy as np\n",
        "import string\n",
        "from string import digits\n",
        "import re\n",
        "from sklearn.utils import shuffle\n",
        "from sklearn.model_selection import train_test_split\n",
        "from keras.layers import Input, LSTM, Embedding, Dense\n",
        "from keras.models import Model\n",
        "from nubia import Nubia\n",
        "import datetime"
      ],
      "execution_count": null,
      "outputs": [
        {
          "output_type": "stream",
          "text": [
            "Using TensorFlow backend.\n"
          ],
          "name": "stderr"
        }
      ]
    },
    {
      "cell_type": "code",
      "metadata": {
        "id": "SZi7JvJt4aAF",
        "colab_type": "code",
        "colab": {
          "base_uri": "https://localhost:8080/",
          "height": 82
        },
        "outputId": "31ca4e8d-f289-4e68-e7d5-21478429258f"
      },
      "source": [
        "nubia = Nubia()"
      ],
      "execution_count": null,
      "outputs": [
        {
          "output_type": "stream",
          "text": [
            "loading archive file pretrained/roBERTa_STS\n",
            "| [input] dictionary: 50265 types\n",
            "loading archive file pretrained/roBERTa_MNLI\n",
            "| dictionary: 50264 types\n"
          ],
          "name": "stdout"
        }
      ]
    },
    {
      "cell_type": "code",
      "metadata": {
        "ExecuteTime": {
          "end_time": "2020-06-15T12:18:55.545056Z",
          "start_time": "2020-06-15T12:18:55.396848Z"
        },
        "id": "VCCe4UPRfpqO",
        "colab_type": "code",
        "colab": {}
      },
      "source": [
        "lines= pd.read_table('/content/drive/My Drive/rus.txt', names=['eng','rus', '1'])"
      ],
      "execution_count": null,
      "outputs": []
    },
    {
      "cell_type": "code",
      "metadata": {
        "id": "P0l0PDFOhOWN",
        "colab_type": "code",
        "colab": {}
      },
      "source": [
        "lines = lines.drop(['1'], axis=1)\n",
        "lines = lines[:38696]\n",
        "lines = shuffle(lines)"
      ],
      "execution_count": null,
      "outputs": []
    },
    {
      "cell_type": "code",
      "metadata": {
        "ExecuteTime": {
          "end_time": "2020-06-15T12:18:56.528523Z",
          "start_time": "2020-06-15T12:18:56.519999Z"
        },
        "id": "HgUrhWcffpqV",
        "colab_type": "code",
        "colab": {
          "base_uri": "https://localhost:8080/",
          "height": 32
        },
        "outputId": "f59b096c-4a9e-4f72-d06e-18690de8fb2e"
      },
      "source": [
        "lines.shape"
      ],
      "execution_count": null,
      "outputs": [
        {
          "output_type": "execute_result",
          "data": {
            "text/plain": [
              "(38696, 2)"
            ]
          },
          "metadata": {
            "tags": []
          },
          "execution_count": 7
        }
      ]
    },
    {
      "cell_type": "code",
      "metadata": {
        "ExecuteTime": {
          "end_time": "2020-06-15T12:18:57.459215Z",
          "start_time": "2020-06-15T12:18:57.405476Z"
        },
        "id": "ipJ7WZoJfpqc",
        "colab_type": "code",
        "colab": {}
      },
      "source": [
        "# Lowercase all characters\n",
        "lines.eng=lines.eng.apply(lambda x: x.lower())\n",
        "lines.rus=lines.rus.apply(lambda x: x.lower())\n",
        "\n",
        "# Remove quotes\n",
        "lines.eng=lines.eng.apply(lambda x: re.sub(\"'\", '', x))\n",
        "lines.rus=lines.rus.apply(lambda x: re.sub(\"'\", '', x))\n",
        "\n",
        "exclude = set(string.punctuation) # Set of all special characters\n",
        "# Remove all the special characters\n",
        "lines.eng=lines.eng.apply(lambda x: ''.join(ch for ch in x if ch not in exclude))\n",
        "lines.rus=lines.rus.apply(lambda x: ''.join(ch for ch in x if ch not in exclude))\n",
        "\n",
        "# Remove all numbers from text\n",
        "remove_digits = str.maketrans('', '', digits)\n",
        "lines.eng = lines.eng.apply(lambda x: x.translate(remove_digits))\n",
        "lines.rus = lines.rus.apply(lambda x: x.translate(remove_digits))\n",
        "\n",
        "# Remove extra spaces\n",
        "lines.eng=lines.eng.apply(lambda x: x.strip())\n",
        "lines.rus=lines.rus.apply(lambda x: x.strip())\n",
        "lines.eng=lines.eng.apply(lambda x: re.sub(\" +\", \" \", x))\n",
        "lines.rus=lines.rus.apply(lambda x: re.sub(\" +\", \" \", x))\n",
        "\n",
        "# Add start and end tokens to target sequences\n",
        "lines.eng = lines.eng.apply(lambda x : 'START_ '+ x + ' _END')"
      ],
      "execution_count": null,
      "outputs": []
    },
    {
      "cell_type": "code",
      "metadata": {
        "ExecuteTime": {
          "end_time": "2020-06-15T12:19:01.984516Z",
          "start_time": "2020-06-15T12:19:01.965691Z"
        },
        "id": "wvelqp93fpqu",
        "colab_type": "code",
        "colab": {
          "base_uri": "https://localhost:8080/",
          "height": 352
        },
        "outputId": "ec82a3e6-378d-48a5-a9a1-fc080843eee3"
      },
      "source": [
        "lines.sample(10)"
      ],
      "execution_count": null,
      "outputs": [
        {
          "output_type": "execute_result",
          "data": {
            "text/html": [
              "<div>\n",
              "<style scoped>\n",
              "    .dataframe tbody tr th:only-of-type {\n",
              "        vertical-align: middle;\n",
              "    }\n",
              "\n",
              "    .dataframe tbody tr th {\n",
              "        vertical-align: top;\n",
              "    }\n",
              "\n",
              "    .dataframe thead th {\n",
              "        text-align: right;\n",
              "    }\n",
              "</style>\n",
              "<table border=\"1\" class=\"dataframe\">\n",
              "  <thead>\n",
              "    <tr style=\"text-align: right;\">\n",
              "      <th></th>\n",
              "      <th>eng</th>\n",
              "      <th>rus</th>\n",
              "    </tr>\n",
              "  </thead>\n",
              "  <tbody>\n",
              "    <tr>\n",
              "      <th>36378</th>\n",
              "      <td>START_ do you bind books _END</td>\n",
              "      <td>ты занимаешься переплетением книг</td>\n",
              "    </tr>\n",
              "    <tr>\n",
              "      <th>33190</th>\n",
              "      <td>START_ tom isnt around _END</td>\n",
              "      <td>тома поблизости нет</td>\n",
              "    </tr>\n",
              "    <tr>\n",
              "      <th>5500</th>\n",
              "      <td>START_ are you busy _END</td>\n",
              "      <td>ты занят</td>\n",
              "    </tr>\n",
              "    <tr>\n",
              "      <th>13659</th>\n",
              "      <td>START_ do you do yoga _END</td>\n",
              "      <td>вы занимаетесь йогой</td>\n",
              "    </tr>\n",
              "    <tr>\n",
              "      <th>18338</th>\n",
              "      <td>START_ why am i alive _END</td>\n",
              "      <td>почему я жив</td>\n",
              "    </tr>\n",
              "    <tr>\n",
              "      <th>24526</th>\n",
              "      <td>START_ tom looks drunk _END</td>\n",
              "      <td>том выглядит пьяным</td>\n",
              "    </tr>\n",
              "    <tr>\n",
              "      <th>7302</th>\n",
              "      <td>START_ math is hard _END</td>\n",
              "      <td>математика сложна</td>\n",
              "    </tr>\n",
              "    <tr>\n",
              "      <th>10133</th>\n",
              "      <td>START_ i was running _END</td>\n",
              "      <td>я бежала</td>\n",
              "    </tr>\n",
              "    <tr>\n",
              "      <th>14329</th>\n",
              "      <td>START_ hows your dad _END</td>\n",
              "      <td>как твой папенька</td>\n",
              "    </tr>\n",
              "    <tr>\n",
              "      <th>38477</th>\n",
              "      <td>START_ i heard them sing _END</td>\n",
              "      <td>я слышал как они поют</td>\n",
              "    </tr>\n",
              "  </tbody>\n",
              "</table>\n",
              "</div>"
            ],
            "text/plain": [
              "                                 eng                                rus\n",
              "36378  START_ do you bind books _END  ты занимаешься переплетением книг\n",
              "33190    START_ tom isnt around _END                тома поблизости нет\n",
              "5500        START_ are you busy _END                           ты занят\n",
              "13659     START_ do you do yoga _END               вы занимаетесь йогой\n",
              "18338     START_ why am i alive _END                       почему я жив\n",
              "24526    START_ tom looks drunk _END                том выглядит пьяным\n",
              "7302        START_ math is hard _END                  математика сложна\n",
              "10133      START_ i was running _END                           я бежала\n",
              "14329      START_ hows your dad _END                  как твой папенька\n",
              "38477  START_ i heard them sing _END              я слышал как они поют"
            ]
          },
          "metadata": {
            "tags": []
          },
          "execution_count": 9
        }
      ]
    },
    {
      "cell_type": "code",
      "metadata": {
        "ExecuteTime": {
          "end_time": "2020-06-15T12:19:02.940437Z",
          "start_time": "2020-06-15T12:19:02.677135Z"
        },
        "id": "zkWxdPIMfpqx",
        "colab_type": "code",
        "colab": {}
      },
      "source": [
        "# Vocabulary of Russian\n",
        "all_rus_words=set()\n",
        "for rus in lines.rus:\n",
        "    for word in rus.split():\n",
        "        if word not in all_rus_words:\n",
        "            all_rus_words.add(word)\n",
        "\n",
        "# Vocabulary of English \n",
        "all_eng_words=set()\n",
        "for eng in lines.eng:\n",
        "    for word in eng.split():\n",
        "        if word not in all_eng_words:\n",
        "            all_eng_words.add(word)"
      ],
      "execution_count": null,
      "outputs": []
    },
    {
      "cell_type": "code",
      "metadata": {
        "ExecuteTime": {
          "end_time": "2020-06-15T12:19:10.826145Z",
          "start_time": "2020-06-15T12:19:10.781636Z"
        },
        "id": "yDir9XHsfpqz",
        "colab_type": "code",
        "colab": {
          "base_uri": "https://localhost:8080/",
          "height": 32
        },
        "outputId": "23ca83fd-a7e4-4a6d-a4f9-b6200c740e3e"
      },
      "source": [
        "# Max Length of source sequence\n",
        "lenght_list=[]\n",
        "for l in lines.rus:\n",
        "    lenght_list.append(len(l.split(' ')))\n",
        "max_length_src = np.max(lenght_list)\n",
        "max_length_src"
      ],
      "execution_count": null,
      "outputs": [
        {
          "output_type": "execute_result",
          "data": {
            "text/plain": [
              "10"
            ]
          },
          "metadata": {
            "tags": []
          },
          "execution_count": 11
        }
      ]
    },
    {
      "cell_type": "code",
      "metadata": {
        "ExecuteTime": {
          "end_time": "2020-06-15T12:19:11.592387Z",
          "start_time": "2020-06-15T12:19:11.505642Z"
        },
        "id": "auV4wcK_fpq0",
        "colab_type": "code",
        "colab": {
          "base_uri": "https://localhost:8080/",
          "height": 32
        },
        "outputId": "436ab1f9-bed0-47ee-e09d-5854d0c15dc3"
      },
      "source": [
        "# Max Length of target sequence\n",
        "lenght_list=[]\n",
        "for l in lines.eng:\n",
        "    lenght_list.append(len(l.split(' ')))\n",
        "max_length_tar = np.max(lenght_list)\n",
        "max_length_tar"
      ],
      "execution_count": null,
      "outputs": [
        {
          "output_type": "execute_result",
          "data": {
            "text/plain": [
              "8"
            ]
          },
          "metadata": {
            "tags": []
          },
          "execution_count": 12
        }
      ]
    },
    {
      "cell_type": "code",
      "metadata": {
        "ExecuteTime": {
          "end_time": "2020-06-15T12:19:12.084084Z",
          "start_time": "2020-06-15T12:19:12.017022Z"
        },
        "id": "j6KshCf4fpq2",
        "colab_type": "code",
        "colab": {
          "base_uri": "https://localhost:8080/",
          "height": 32
        },
        "outputId": "156fc16a-b0ff-41ef-d943-72d68b4bc5ad"
      },
      "source": [
        "input_words = sorted(list(all_rus_words))\n",
        "target_words = sorted(list(all_eng_words))\n",
        "num_encoder_tokens = len(all_rus_words)\n",
        "num_decoder_tokens = len(all_eng_words)\n",
        "num_encoder_tokens, num_decoder_tokens"
      ],
      "execution_count": null,
      "outputs": [
        {
          "output_type": "execute_result",
          "data": {
            "text/plain": [
              "(11582, 4207)"
            ]
          },
          "metadata": {
            "tags": []
          },
          "execution_count": 13
        }
      ]
    },
    {
      "cell_type": "code",
      "metadata": {
        "ExecuteTime": {
          "end_time": "2020-06-15T12:19:12.599432Z",
          "start_time": "2020-06-15T12:19:12.592908Z"
        },
        "id": "0j11Tvwufpq4",
        "colab_type": "code",
        "colab": {
          "base_uri": "https://localhost:8080/",
          "height": 32
        },
        "outputId": "a4951370-ddf0-4f24-d9f8-6d6a8a3f76ed"
      },
      "source": [
        "num_decoder_tokens += 1 # For zero padding\n",
        "num_encoder_tokens +=1\n",
        "num_decoder_tokens"
      ],
      "execution_count": null,
      "outputs": [
        {
          "output_type": "execute_result",
          "data": {
            "text/plain": [
              "4208"
            ]
          },
          "metadata": {
            "tags": []
          },
          "execution_count": 14
        }
      ]
    },
    {
      "cell_type": "code",
      "metadata": {
        "ExecuteTime": {
          "end_time": "2020-06-15T12:19:13.285461Z",
          "start_time": "2020-06-15T12:19:13.204485Z"
        },
        "id": "lDVGkrQEfpq6",
        "colab_type": "code",
        "colab": {}
      },
      "source": [
        "input_token_index = dict([(word, i+1) for i, word in enumerate(input_words)])\n",
        "target_token_index = dict([(word, i+1) for i, word in enumerate(target_words)])"
      ],
      "execution_count": null,
      "outputs": []
    },
    {
      "cell_type": "code",
      "metadata": {
        "ExecuteTime": {
          "end_time": "2020-06-15T12:19:13.816245Z",
          "start_time": "2020-06-15T12:19:13.788507Z"
        },
        "id": "Sw8OsDuzfpq7",
        "colab_type": "code",
        "colab": {}
      },
      "source": [
        "reverse_input_char_index = dict((i, word) for word, i in input_token_index.items())\n",
        "reverse_target_char_index = dict((i, word) for word, i in target_token_index.items())"
      ],
      "execution_count": null,
      "outputs": []
    },
    {
      "cell_type": "code",
      "metadata": {
        "ExecuteTime": {
          "end_time": "2020-06-15T12:19:14.721911Z",
          "start_time": "2020-06-15T12:19:14.697055Z"
        },
        "id": "oXXndRKQfpq9",
        "colab_type": "code",
        "colab": {
          "base_uri": "https://localhost:8080/",
          "height": 352
        },
        "outputId": "c22a992c-36c6-464d-d03e-5b48a7c45ced"
      },
      "source": [
        "lines.head(10)"
      ],
      "execution_count": null,
      "outputs": [
        {
          "output_type": "execute_result",
          "data": {
            "text/html": [
              "<div>\n",
              "<style scoped>\n",
              "    .dataframe tbody tr th:only-of-type {\n",
              "        vertical-align: middle;\n",
              "    }\n",
              "\n",
              "    .dataframe tbody tr th {\n",
              "        vertical-align: top;\n",
              "    }\n",
              "\n",
              "    .dataframe thead th {\n",
              "        text-align: right;\n",
              "    }\n",
              "</style>\n",
              "<table border=\"1\" class=\"dataframe\">\n",
              "  <thead>\n",
              "    <tr style=\"text-align: right;\">\n",
              "      <th></th>\n",
              "      <th>eng</th>\n",
              "      <th>rus</th>\n",
              "    </tr>\n",
              "  </thead>\n",
              "  <tbody>\n",
              "    <tr>\n",
              "      <th>23729</th>\n",
              "      <td>START_ they told me so _END</td>\n",
              "      <td>они мне так сказали</td>\n",
              "    </tr>\n",
              "    <tr>\n",
              "      <th>25497</th>\n",
              "      <td>START_ whats his name _END</td>\n",
              "      <td>как его имя</td>\n",
              "    </tr>\n",
              "    <tr>\n",
              "      <th>21879</th>\n",
              "      <td>START_ im glad i came _END</td>\n",
              "      <td>я рад что пришёл</td>\n",
              "    </tr>\n",
              "    <tr>\n",
              "      <th>13106</th>\n",
              "      <td>START_ youre biased _END</td>\n",
              "      <td>ты предвзята</td>\n",
              "    </tr>\n",
              "    <tr>\n",
              "      <th>12043</th>\n",
              "      <td>START_ tom is a baby _END</td>\n",
              "      <td>том младенец</td>\n",
              "    </tr>\n",
              "    <tr>\n",
              "      <th>35266</th>\n",
              "      <td>START_ you seem content _END</td>\n",
              "      <td>ты вроде довольна</td>\n",
              "    </tr>\n",
              "    <tr>\n",
              "      <th>4300</th>\n",
              "      <td>START_ is it cheap _END</td>\n",
              "      <td>оно дешёвое</td>\n",
              "    </tr>\n",
              "    <tr>\n",
              "      <th>32944</th>\n",
              "      <td>START_ tom is a fat man _END</td>\n",
              "      <td>том дородный</td>\n",
              "    </tr>\n",
              "    <tr>\n",
              "      <th>7365</th>\n",
              "      <td>START_ now try this _END</td>\n",
              "      <td>теперь попробуй это</td>\n",
              "    </tr>\n",
              "    <tr>\n",
              "      <th>21481</th>\n",
              "      <td>START_ i was very cold _END</td>\n",
              "      <td>мне было очень холодно</td>\n",
              "    </tr>\n",
              "  </tbody>\n",
              "</table>\n",
              "</div>"
            ],
            "text/plain": [
              "                                eng                     rus\n",
              "23729   START_ they told me so _END     они мне так сказали\n",
              "25497    START_ whats his name _END             как его имя\n",
              "21879    START_ im glad i came _END        я рад что пришёл\n",
              "13106      START_ youre biased _END            ты предвзята\n",
              "12043     START_ tom is a baby _END            том младенец\n",
              "35266  START_ you seem content _END       ты вроде довольна\n",
              "4300        START_ is it cheap _END             оно дешёвое\n",
              "32944  START_ tom is a fat man _END            том дородный\n",
              "7365       START_ now try this _END     теперь попробуй это\n",
              "21481   START_ i was very cold _END  мне было очень холодно"
            ]
          },
          "metadata": {
            "tags": []
          },
          "execution_count": 17
        }
      ]
    },
    {
      "cell_type": "code",
      "metadata": {
        "ExecuteTime": {
          "end_time": "2020-06-15T12:19:20.217018Z",
          "start_time": "2020-06-15T12:19:20.186460Z"
        },
        "id": "szGJAm0zfpq-",
        "colab_type": "code",
        "colab": {
          "base_uri": "https://localhost:8080/",
          "height": 32
        },
        "outputId": "15a03bc6-ae22-4a3a-dbcf-9740819bb716"
      },
      "source": [
        "#Split the data into train and test\n",
        "X, y = lines.rus, lines.eng\n",
        "X_train, X_test, y_train, y_test = train_test_split(X, y, test_size = 0.1)\n",
        "X_train.shape, X_test.shape"
      ],
      "execution_count": null,
      "outputs": [
        {
          "output_type": "execute_result",
          "data": {
            "text/plain": [
              "((34826,), (3870,))"
            ]
          },
          "metadata": {
            "tags": []
          },
          "execution_count": 18
        }
      ]
    },
    {
      "cell_type": "code",
      "metadata": {
        "ExecuteTime": {
          "end_time": "2020-06-15T12:19:26.732784Z",
          "start_time": "2020-06-15T12:19:26.722532Z"
        },
        "id": "AuHY-vShfprC",
        "colab_type": "code",
        "colab": {}
      },
      "source": [
        "#Define a function which generates the data for train and test in batches\n",
        "\n",
        "def generate_batch(X = X_train, y = y_train, batch_size = 128):\n",
        "    ''' Generate a batch of data '''\n",
        "    while True:\n",
        "        for j in range(0, len(X), batch_size):\n",
        "            encoder_input_data = np.zeros((batch_size, max_length_src),dtype='float32')\n",
        "            decoder_input_data = np.zeros((batch_size, max_length_tar),dtype='float32')\n",
        "            decoder_target_data = np.zeros((batch_size, max_length_tar, num_decoder_tokens),dtype='float32')\n",
        "            for i, (input_text, target_text) in enumerate(zip(X[j:j+batch_size], y[j:j+batch_size])):\n",
        "                for t, word in enumerate(input_text.split()):\n",
        "                    encoder_input_data[i, t] = input_token_index[word] # encoder input seq\n",
        "                for t, word in enumerate(target_text.split()):\n",
        "                    if t<len(target_text.split())-1:\n",
        "                        decoder_input_data[i, t] = target_token_index[word] # decoder input seq\n",
        "                    if t>0:\n",
        "                        # decoder target sequence (one hot encoded)\n",
        "                        # does not include the START_ token\n",
        "                        # Offset by one timestep\n",
        "                        decoder_target_data[i, t - 1, target_token_index[word]] = 1.\n",
        "            yield([encoder_input_data, decoder_input_data], decoder_target_data)"
      ],
      "execution_count": null,
      "outputs": []
    },
    {
      "cell_type": "code",
      "metadata": {
        "ExecuteTime": {
          "end_time": "2020-06-15T12:19:28.312597Z",
          "start_time": "2020-06-15T12:19:28.309264Z"
        },
        "id": "gzmaoQq5fprE",
        "colab_type": "code",
        "colab": {}
      },
      "source": [
        "#Define the encoder-decoder architecture with LSTM\n",
        "latent_dim = 50"
      ],
      "execution_count": null,
      "outputs": []
    },
    {
      "cell_type": "code",
      "metadata": {
        "ExecuteTime": {
          "end_time": "2020-06-15T12:19:29.181525Z",
          "start_time": "2020-06-15T12:19:28.921869Z"
        },
        "id": "XjXjajVifprF",
        "colab_type": "code",
        "colab": {}
      },
      "source": [
        "# Encoder\n",
        "encoder_inputs = Input(shape=(None,))\n",
        "enc_emb =  Embedding(num_encoder_tokens, latent_dim, mask_zero = True)(encoder_inputs)\n",
        "encoder_lstm = LSTM(latent_dim, return_state=True)\n",
        "encoder_outputs, state_h, state_c = encoder_lstm(enc_emb)\n",
        "\n",
        "encoder_states = [state_h, state_c]"
      ],
      "execution_count": null,
      "outputs": []
    },
    {
      "cell_type": "code",
      "metadata": {
        "ExecuteTime": {
          "end_time": "2020-06-15T12:19:30.144938Z",
          "start_time": "2020-06-15T12:19:29.870289Z"
        },
        "id": "ggQiV7bffprH",
        "colab_type": "code",
        "colab": {}
      },
      "source": [
        "# Set up the decoder, using `encoder_states` as initial state.\n",
        "decoder_inputs = Input(shape=(None,))\n",
        "dec_emb_layer = Embedding(num_decoder_tokens, latent_dim, mask_zero = True)\n",
        "dec_emb = dec_emb_layer(decoder_inputs)\n",
        "\n",
        "decoder_lstm = LSTM(latent_dim, return_sequences=True, return_state=True)\n",
        "decoder_outputs, _, _ = decoder_lstm(dec_emb,\n",
        "                                     initial_state=encoder_states)\n",
        "decoder_dense = Dense(num_decoder_tokens, activation='softmax')\n",
        "decoder_outputs = decoder_dense(decoder_outputs)\n",
        "\n",
        "# Define the model that will turn `encoder_input_data` & `decoder_input_data` into `decoder_target_data`\n",
        "model = Model([encoder_inputs, decoder_inputs], decoder_outputs)"
      ],
      "execution_count": null,
      "outputs": []
    },
    {
      "cell_type": "code",
      "metadata": {
        "ExecuteTime": {
          "end_time": "2020-06-15T12:19:31.164527Z",
          "start_time": "2020-06-15T12:19:31.095185Z"
        },
        "id": "ItExpxSufprI",
        "colab_type": "code",
        "colab": {}
      },
      "source": [
        "model.compile(optimizer='rmsprop', loss='categorical_crossentropy', metrics=['acc'])"
      ],
      "execution_count": null,
      "outputs": []
    },
    {
      "cell_type": "code",
      "metadata": {
        "ExecuteTime": {
          "end_time": "2020-06-15T12:19:33.993626Z",
          "start_time": "2020-06-15T12:19:33.989212Z"
        },
        "id": "m6zVgrc1fprL",
        "colab_type": "code",
        "colab": {}
      },
      "source": [
        "train_samples = len(X_train)\n",
        "val_samples = len(X_test)\n",
        "batch_size = 32\n",
        "epochs = 100"
      ],
      "execution_count": null,
      "outputs": []
    },
    {
      "cell_type": "code",
      "metadata": {
        "id": "I7qFs1vQcfm1",
        "colab_type": "code",
        "colab": {}
      },
      "source": [
        "model.load_weights('/content/drive/My Drive/Colab Notebooks/weights.h5')"
      ],
      "execution_count": null,
      "outputs": []
    },
    {
      "cell_type": "code",
      "metadata": {
        "ExecuteTime": {
          "end_time": "2020-06-15T12:20:20.799119Z",
          "start_time": "2020-06-15T12:19:34.631953Z"
        },
        "id": "p6B83Y2yfprM",
        "colab_type": "code",
        "colab": {
          "base_uri": "https://localhost:8080/",
          "height": 1000
        },
        "outputId": "b3296fa5-bceb-4f84-9d48-889866843620"
      },
      "source": [
        "print('Beginning Training!') \n",
        "current_time = datetime.datetime.now() \n",
        "\n",
        "model.fit_generator(generator = generate_batch(X_train, y_train, batch_size = batch_size),\n",
        "                    steps_per_epoch = 200,\n",
        "                    epochs=epochs,\n",
        "                    validation_data = generate_batch(X_test, y_test, batch_size = batch_size),\n",
        "                    validation_steps = val_samples//batch_size)\n",
        "\n",
        "print(\"Training took time \", datetime.datetime.now() - current_time)"
      ],
      "execution_count": null,
      "outputs": [
        {
          "output_type": "stream",
          "text": [
            "Beginning Training!\n"
          ],
          "name": "stdout"
        },
        {
          "output_type": "stream",
          "text": [
            "/usr/local/lib/python3.6/dist-packages/tensorflow/python/framework/indexed_slices.py:434: UserWarning: Converting sparse IndexedSlices to a dense Tensor of unknown shape. This may consume a large amount of memory.\n",
            "  \"Converting sparse IndexedSlices to a dense Tensor of unknown shape. \"\n"
          ],
          "name": "stderr"
        },
        {
          "output_type": "stream",
          "text": [
            "Epoch 1/100\n",
            "200/200 [==============================] - 18s 89ms/step - loss: 0.9586 - acc: 0.7633 - val_loss: 1.0436 - val_acc: 0.7636\n",
            "Epoch 2/100\n",
            "200/200 [==============================] - 17s 84ms/step - loss: 0.9782 - acc: 0.7569 - val_loss: 0.9939 - val_acc: 0.7605\n",
            "Epoch 3/100\n",
            "200/200 [==============================] - 17s 83ms/step - loss: 0.9431 - acc: 0.7634 - val_loss: 0.8199 - val_acc: 0.7597\n",
            "Epoch 4/100\n",
            "200/200 [==============================] - 17s 83ms/step - loss: 0.9697 - acc: 0.7558 - val_loss: 1.0353 - val_acc: 0.7605\n",
            "Epoch 5/100\n",
            "200/200 [==============================] - 17s 84ms/step - loss: 0.9821 - acc: 0.7596 - val_loss: 0.9861 - val_acc: 0.7584\n",
            "Epoch 6/100\n",
            "200/200 [==============================] - 17s 84ms/step - loss: 0.9561 - acc: 0.7627 - val_loss: 1.2511 - val_acc: 0.7594\n",
            "Epoch 7/100\n",
            "200/200 [==============================] - 17s 84ms/step - loss: 0.9611 - acc: 0.7644 - val_loss: 1.0342 - val_acc: 0.7564\n",
            "Epoch 8/100\n",
            "200/200 [==============================] - 17s 83ms/step - loss: 0.9441 - acc: 0.7631 - val_loss: 1.1012 - val_acc: 0.7565\n",
            "Epoch 9/100\n",
            "200/200 [==============================] - 17s 83ms/step - loss: 0.9436 - acc: 0.7647 - val_loss: 0.9846 - val_acc: 0.7563\n",
            "Epoch 10/100\n",
            "200/200 [==============================] - 17s 83ms/step - loss: 0.9584 - acc: 0.7611 - val_loss: 0.6177 - val_acc: 0.7555\n",
            "Epoch 11/100\n",
            "200/200 [==============================] - 17s 83ms/step - loss: 0.9565 - acc: 0.7657 - val_loss: 0.9956 - val_acc: 0.7540\n",
            "Epoch 12/100\n",
            "200/200 [==============================] - 17s 83ms/step - loss: 0.9417 - acc: 0.7681 - val_loss: 1.2555 - val_acc: 0.7555\n",
            "Epoch 13/100\n",
            "200/200 [==============================] - 17s 83ms/step - loss: 0.9557 - acc: 0.7648 - val_loss: 0.6631 - val_acc: 0.7536\n",
            "Epoch 14/100\n",
            "200/200 [==============================] - 17s 84ms/step - loss: 0.9176 - acc: 0.7719 - val_loss: 1.1857 - val_acc: 0.7517\n",
            "Epoch 15/100\n",
            "200/200 [==============================] - 17s 83ms/step - loss: 0.9470 - acc: 0.7635 - val_loss: 1.0548 - val_acc: 0.7524\n",
            "Epoch 16/100\n",
            "200/200 [==============================] - 17s 83ms/step - loss: 0.9508 - acc: 0.7689 - val_loss: 1.1102 - val_acc: 0.7499\n",
            "Epoch 17/100\n",
            "200/200 [==============================] - 17s 83ms/step - loss: 0.9392 - acc: 0.7696 - val_loss: 0.8719 - val_acc: 0.7505\n",
            "Epoch 18/100\n",
            "200/200 [==============================] - 17s 84ms/step - loss: 0.9440 - acc: 0.7668 - val_loss: 1.0435 - val_acc: 0.7510\n",
            "Epoch 19/100\n",
            "200/200 [==============================] - 17s 83ms/step - loss: 0.9259 - acc: 0.7705 - val_loss: 0.8809 - val_acc: 0.7476\n",
            "Epoch 20/100\n",
            "200/200 [==============================] - 17s 84ms/step - loss: 0.9280 - acc: 0.7698 - val_loss: 1.0657 - val_acc: 0.7494\n",
            "Epoch 21/100\n",
            "200/200 [==============================] - 17s 84ms/step - loss: 0.9377 - acc: 0.7699 - val_loss: 0.9367 - val_acc: 0.7494\n",
            "Epoch 22/100\n",
            "200/200 [==============================] - 17s 83ms/step - loss: 0.9388 - acc: 0.7705 - val_loss: 0.9587 - val_acc: 0.7478\n",
            "Epoch 23/100\n",
            "200/200 [==============================] - 17s 83ms/step - loss: 0.9317 - acc: 0.7721 - val_loss: 0.8112 - val_acc: 0.7487\n",
            "Epoch 24/100\n",
            "200/200 [==============================] - 17s 83ms/step - loss: 0.9431 - acc: 0.7692 - val_loss: 0.9532 - val_acc: 0.7462\n",
            "Epoch 25/100\n",
            "200/200 [==============================] - 17s 83ms/step - loss: 0.9072 - acc: 0.7752 - val_loss: 1.1153 - val_acc: 0.7456\n",
            "Epoch 26/100\n",
            "200/200 [==============================] - 17s 83ms/step - loss: 0.9311 - acc: 0.7692 - val_loss: 1.0255 - val_acc: 0.7465\n",
            "Epoch 27/100\n",
            "200/200 [==============================] - 17s 83ms/step - loss: 0.9396 - acc: 0.7721 - val_loss: 0.8015 - val_acc: 0.7451\n",
            "Epoch 28/100\n",
            "200/200 [==============================] - 17s 83ms/step - loss: 0.9245 - acc: 0.7741 - val_loss: 1.1835 - val_acc: 0.7443\n",
            "Epoch 29/100\n",
            "200/200 [==============================] - 17s 84ms/step - loss: 0.9370 - acc: 0.7703 - val_loss: 0.7887 - val_acc: 0.7451\n",
            "Epoch 30/100\n",
            "200/200 [==============================] - 17s 83ms/step - loss: 0.9110 - acc: 0.7745 - val_loss: 1.1389 - val_acc: 0.7431\n",
            "Epoch 31/100\n",
            "200/200 [==============================] - 20s 101ms/step - loss: 0.9193 - acc: 0.7740 - val_loss: 1.1543 - val_acc: 0.7424\n",
            "Epoch 32/100\n",
            "200/200 [==============================] - 17s 83ms/step - loss: 0.9243 - acc: 0.7740 - val_loss: 0.7509 - val_acc: 0.7427\n",
            "Epoch 33/100\n",
            "200/200 [==============================] - 17s 84ms/step - loss: 0.9322 - acc: 0.7744 - val_loss: 0.9061 - val_acc: 0.7429\n",
            "Epoch 34/100\n",
            "200/200 [==============================] - 17s 84ms/step - loss: 0.9267 - acc: 0.7749 - val_loss: 1.0345 - val_acc: 0.7418\n",
            "Epoch 35/100\n",
            "200/200 [==============================] - 17s 85ms/step - loss: 0.9234 - acc: 0.7733 - val_loss: 1.2433 - val_acc: 0.7427\n",
            "Epoch 36/100\n",
            "200/200 [==============================] - 17s 85ms/step - loss: 0.9004 - acc: 0.7791 - val_loss: 0.8724 - val_acc: 0.7420\n",
            "Epoch 37/100\n",
            "200/200 [==============================] - 17s 85ms/step - loss: 0.9204 - acc: 0.7734 - val_loss: 1.0251 - val_acc: 0.7424\n",
            "Epoch 38/100\n",
            "200/200 [==============================] - 17s 85ms/step - loss: 0.9300 - acc: 0.7752 - val_loss: 0.9698 - val_acc: 0.7410\n",
            "Epoch 39/100\n",
            "200/200 [==============================] - 17s 85ms/step - loss: 0.9149 - acc: 0.7778 - val_loss: 0.7839 - val_acc: 0.7406\n",
            "Epoch 40/100\n",
            "200/200 [==============================] - 17s 84ms/step - loss: 0.9301 - acc: 0.7720 - val_loss: 0.9443 - val_acc: 0.7374\n",
            "Epoch 41/100\n",
            "200/200 [==============================] - 17s 84ms/step - loss: 0.8993 - acc: 0.7791 - val_loss: 1.0242 - val_acc: 0.7397\n",
            "Epoch 42/100\n",
            "200/200 [==============================] - 17s 84ms/step - loss: 0.9078 - acc: 0.7766 - val_loss: 0.8981 - val_acc: 0.7408\n",
            "Epoch 43/100\n",
            "200/200 [==============================] - 17s 85ms/step - loss: 0.9272 - acc: 0.7769 - val_loss: 0.8772 - val_acc: 0.7387\n",
            "Epoch 44/100\n",
            "200/200 [==============================] - 17s 85ms/step - loss: 0.9121 - acc: 0.7780 - val_loss: 0.7940 - val_acc: 0.7389\n",
            "Epoch 45/100\n",
            "200/200 [==============================] - 17s 84ms/step - loss: 0.9229 - acc: 0.7780 - val_loss: 0.9874 - val_acc: 0.7383\n",
            "Epoch 46/100\n",
            "200/200 [==============================] - 17s 84ms/step - loss: 0.9157 - acc: 0.7763 - val_loss: 1.2450 - val_acc: 0.7381\n",
            "Epoch 47/100\n",
            "200/200 [==============================] - 17s 83ms/step - loss: 0.8963 - acc: 0.7800 - val_loss: 1.0471 - val_acc: 0.7375\n",
            "Epoch 48/100\n",
            "200/200 [==============================] - 17s 83ms/step - loss: 0.9149 - acc: 0.7759 - val_loss: 1.1688 - val_acc: 0.7369\n",
            "Epoch 49/100\n",
            "200/200 [==============================] - 17s 84ms/step - loss: 0.9184 - acc: 0.7789 - val_loss: 0.9848 - val_acc: 0.7364\n",
            "Epoch 50/100\n",
            "200/200 [==============================] - 17s 85ms/step - loss: 0.9057 - acc: 0.7800 - val_loss: 0.8740 - val_acc: 0.7377\n",
            "Epoch 51/100\n",
            "200/200 [==============================] - 17s 85ms/step - loss: 0.9252 - acc: 0.7753 - val_loss: 1.0883 - val_acc: 0.7363\n",
            "Epoch 52/100\n",
            "200/200 [==============================] - 17s 85ms/step - loss: 0.8852 - acc: 0.7822 - val_loss: 0.9827 - val_acc: 0.7365\n",
            "Epoch 53/100\n",
            "200/200 [==============================] - 17s 84ms/step - loss: 0.9095 - acc: 0.7767 - val_loss: 1.1097 - val_acc: 0.7349\n",
            "Epoch 54/100\n",
            "200/200 [==============================] - 17s 85ms/step - loss: 0.9221 - acc: 0.7804 - val_loss: 1.0467 - val_acc: 0.7346\n",
            "Epoch 55/100\n",
            "200/200 [==============================] - 17s 84ms/step - loss: 0.9057 - acc: 0.7797 - val_loss: 0.9720 - val_acc: 0.7346\n",
            "Epoch 56/100\n",
            "200/200 [==============================] - 17s 84ms/step - loss: 0.9174 - acc: 0.7799 - val_loss: 1.1341 - val_acc: 0.7331\n",
            "Epoch 57/100\n",
            "200/200 [==============================] - 17s 87ms/step - loss: 0.8980 - acc: 0.7804 - val_loss: 0.9263 - val_acc: 0.7361\n",
            "Epoch 58/100\n",
            "200/200 [==============================] - 17s 86ms/step - loss: 0.9001 - acc: 0.7799 - val_loss: 1.3072 - val_acc: 0.7346\n",
            "Epoch 59/100\n",
            "200/200 [==============================] - 17s 85ms/step - loss: 0.9093 - acc: 0.7785 - val_loss: 0.9452 - val_acc: 0.7338\n",
            "Epoch 60/100\n",
            "200/200 [==============================] - 17s 85ms/step - loss: 0.9102 - acc: 0.7812 - val_loss: 0.9801 - val_acc: 0.7336\n",
            "Epoch 61/100\n",
            "200/200 [==============================] - 17s 83ms/step - loss: 0.9050 - acc: 0.7821 - val_loss: 1.2528 - val_acc: 0.7328\n",
            "Epoch 62/100\n",
            "200/200 [==============================] - 17s 83ms/step - loss: 0.9149 - acc: 0.7794 - val_loss: 0.9395 - val_acc: 0.7351\n",
            "Epoch 63/100\n",
            "200/200 [==============================] - 17s 84ms/step - loss: 0.8803 - acc: 0.7848 - val_loss: 0.9797 - val_acc: 0.7328\n",
            "Epoch 64/100\n",
            "200/200 [==============================] - 17s 87ms/step - loss: 0.9047 - acc: 0.7787 - val_loss: 1.1069 - val_acc: 0.7329\n",
            "Epoch 65/100\n",
            "200/200 [==============================] - 17s 87ms/step - loss: 0.9125 - acc: 0.7828 - val_loss: 1.1417 - val_acc: 0.7297\n",
            "Epoch 66/100\n",
            "200/200 [==============================] - 17s 87ms/step - loss: 0.9045 - acc: 0.7823 - val_loss: 1.1042 - val_acc: 0.7328\n",
            "Epoch 67/100\n",
            "200/200 [==============================] - 17s 86ms/step - loss: 0.9103 - acc: 0.7794 - val_loss: 0.9945 - val_acc: 0.7311\n",
            "Epoch 68/100\n",
            "200/200 [==============================] - 17s 86ms/step - loss: 0.8907 - acc: 0.7834 - val_loss: 0.7827 - val_acc: 0.7308\n",
            "Epoch 69/100\n",
            "200/200 [==============================] - 17s 87ms/step - loss: 0.8958 - acc: 0.7800 - val_loss: 1.1195 - val_acc: 0.7313\n",
            "Epoch 70/100\n",
            "200/200 [==============================] - 18s 88ms/step - loss: 0.9020 - acc: 0.7836 - val_loss: 1.1309 - val_acc: 0.7315\n",
            "Epoch 71/100\n",
            "200/200 [==============================] - 17s 87ms/step - loss: 0.9040 - acc: 0.7831 - val_loss: 1.1510 - val_acc: 0.7300\n",
            "Epoch 72/100\n",
            "200/200 [==============================] - 17s 87ms/step - loss: 0.9022 - acc: 0.7833 - val_loss: 1.0081 - val_acc: 0.7317\n",
            "Epoch 73/100\n",
            "200/200 [==============================] - 17s 87ms/step - loss: 0.9113 - acc: 0.7802 - val_loss: 1.0720 - val_acc: 0.7311\n",
            "Epoch 74/100\n",
            "200/200 [==============================] - 17s 87ms/step - loss: 0.8789 - acc: 0.7870 - val_loss: 0.9400 - val_acc: 0.7316\n",
            "Epoch 75/100\n",
            "200/200 [==============================] - 18s 88ms/step - loss: 0.9003 - acc: 0.7821 - val_loss: 0.9066 - val_acc: 0.7312\n",
            "Epoch 76/100\n",
            "200/200 [==============================] - 17s 87ms/step - loss: 0.9075 - acc: 0.7829 - val_loss: 1.2494 - val_acc: 0.7294\n",
            "Epoch 77/100\n",
            "200/200 [==============================] - 17s 87ms/step - loss: 0.8961 - acc: 0.7842 - val_loss: 1.0892 - val_acc: 0.7284\n",
            "Epoch 78/100\n",
            "200/200 [==============================] - 17s 87ms/step - loss: 0.9107 - acc: 0.7807 - val_loss: 1.0288 - val_acc: 0.7271\n",
            "Epoch 79/100\n",
            "200/200 [==============================] - 17s 87ms/step - loss: 0.8843 - acc: 0.7852 - val_loss: 0.9922 - val_acc: 0.7293\n",
            "Epoch 80/100\n",
            "200/200 [==============================] - 17s 87ms/step - loss: 0.8926 - acc: 0.7839 - val_loss: 1.0609 - val_acc: 0.7279\n",
            "Epoch 81/100\n",
            "200/200 [==============================] - 18s 88ms/step - loss: 0.8951 - acc: 0.7853 - val_loss: 1.0978 - val_acc: 0.7287\n",
            "Epoch 82/100\n",
            "200/200 [==============================] - 17s 86ms/step - loss: 0.9060 - acc: 0.7833 - val_loss: 0.7769 - val_acc: 0.7273\n",
            "Epoch 83/100\n",
            "200/200 [==============================] - 17s 85ms/step - loss: 0.9026 - acc: 0.7846 - val_loss: 1.2611 - val_acc: 0.7257\n",
            "Epoch 84/100\n",
            "200/200 [==============================] - 17s 86ms/step - loss: 0.8997 - acc: 0.7823 - val_loss: 1.1183 - val_acc: 0.7260\n",
            "Epoch 85/100\n",
            "200/200 [==============================] - 17s 87ms/step - loss: 0.8745 - acc: 0.7884 - val_loss: 0.9526 - val_acc: 0.7308\n",
            "Epoch 86/100\n",
            "200/200 [==============================] - 18s 89ms/step - loss: 0.8970 - acc: 0.7842 - val_loss: 1.2287 - val_acc: 0.7271\n",
            "Epoch 87/100\n",
            "200/200 [==============================] - 18s 88ms/step - loss: 0.9043 - acc: 0.7838 - val_loss: 1.0762 - val_acc: 0.7268\n",
            "Epoch 88/100\n",
            "200/200 [==============================] - 18s 89ms/step - loss: 0.8945 - acc: 0.7850 - val_loss: 1.0118 - val_acc: 0.7273\n",
            "Epoch 89/100\n",
            "200/200 [==============================] - 17s 87ms/step - loss: 0.9058 - acc: 0.7814 - val_loss: 1.2141 - val_acc: 0.7258\n",
            "Epoch 90/100\n",
            "200/200 [==============================] - 17s 85ms/step - loss: 0.8797 - acc: 0.7868 - val_loss: 1.2922 - val_acc: 0.7284\n",
            "Epoch 91/100\n",
            "200/200 [==============================] - 17s 87ms/step - loss: 0.8856 - acc: 0.7852 - val_loss: 1.0315 - val_acc: 0.7287\n",
            "Epoch 92/100\n",
            "200/200 [==============================] - 17s 87ms/step - loss: 0.9043 - acc: 0.7849 - val_loss: 1.3897 - val_acc: 0.7269\n",
            "Epoch 93/100\n",
            "200/200 [==============================] - 18s 89ms/step - loss: 0.8913 - acc: 0.7860 - val_loss: 0.9811 - val_acc: 0.7250\n",
            "Epoch 94/100\n",
            "200/200 [==============================] - 18s 88ms/step - loss: 0.9036 - acc: 0.7846 - val_loss: 1.3090 - val_acc: 0.7231\n",
            "Epoch 95/100\n",
            "200/200 [==============================] - 17s 87ms/step - loss: 0.8949 - acc: 0.7848 - val_loss: 0.9143 - val_acc: 0.7254\n",
            "Epoch 96/100\n",
            "200/200 [==============================] - 17s 87ms/step - loss: 0.8781 - acc: 0.7878 - val_loss: 1.2285 - val_acc: 0.7261\n",
            "Epoch 97/100\n",
            "200/200 [==============================] - 17s 87ms/step - loss: 0.8931 - acc: 0.7859 - val_loss: 1.1196 - val_acc: 0.7232\n",
            "Epoch 98/100\n",
            "200/200 [==============================] - 17s 87ms/step - loss: 0.8993 - acc: 0.7865 - val_loss: 1.2347 - val_acc: 0.7225\n",
            "Epoch 99/100\n",
            "200/200 [==============================] - 18s 88ms/step - loss: 0.8889 - acc: 0.7869 - val_loss: 1.0535 - val_acc: 0.7254\n",
            "Epoch 100/100\n",
            "200/200 [==============================] - 17s 87ms/step - loss: 0.9073 - acc: 0.7838 - val_loss: 1.1240 - val_acc: 0.7244\n",
            "Training took time  0:28:28.199629\n"
          ],
          "name": "stdout"
        }
      ]
    },
    {
      "cell_type": "code",
      "metadata": {
        "id": "s-3D6DmL5Vdm",
        "colab_type": "code",
        "colab": {}
      },
      "source": [
        "model.save_weights('/content/drive/My Drive/Colab Notebooks/weights.h5')"
      ],
      "execution_count": null,
      "outputs": []
    },
    {
      "cell_type": "markdown",
      "metadata": {
        "id": "BWUZPq-UfprQ",
        "colab_type": "text"
      },
      "source": [
        "### Inference Setup"
      ]
    },
    {
      "cell_type": "code",
      "metadata": {
        "id": "TAKdZjgNfprR",
        "colab_type": "code",
        "colab": {}
      },
      "source": [
        "# Encode the input sequence to get the \"thought vectors\"\n",
        "encoder_model = Model(encoder_inputs, encoder_states)\n",
        "\n",
        "# Decoder setup\n",
        "# Below tensors will hold the states of the previous time step\n",
        "decoder_state_input_h = Input(shape=(latent_dim,))\n",
        "decoder_state_input_c = Input(shape=(latent_dim,))\n",
        "decoder_states_inputs = [decoder_state_input_h, decoder_state_input_c]\n",
        "\n",
        "dec_emb2= dec_emb_layer(decoder_inputs) # Get the embeddings of the decoder sequence\n",
        "\n",
        "# To predict the next word in the sequence, set the initial states to the states from the previous time step\n",
        "decoder_outputs2, state_h2, state_c2 = decoder_lstm(dec_emb2, initial_state=decoder_states_inputs)\n",
        "decoder_states2 = [state_h2, state_c2]\n",
        "decoder_outputs2 = decoder_dense(decoder_outputs2) # A dense softmax layer to generate prob dist. over the target vocabulary\n",
        "\n",
        "# Final decoder model\n",
        "decoder_model = Model(\n",
        "    [decoder_inputs] + decoder_states_inputs,\n",
        "    [decoder_outputs2] + decoder_states2)"
      ],
      "execution_count": null,
      "outputs": []
    },
    {
      "cell_type": "code",
      "metadata": {
        "id": "074ATvPsfprV",
        "colab_type": "code",
        "colab": {}
      },
      "source": [
        "#Finally, generate the output by defining the following function and later calling it.\n",
        "\n",
        "def decode_sequence(input_seq):\n",
        "    # Encode the input as state vectors.\n",
        "    states_value = encoder_model.predict(input_seq)\n",
        "    # Generate empty target sequence of length 1.\n",
        "    target_seq = np.zeros((1,1))\n",
        "    # Populate the first character of target sequence with the start character.\n",
        "    target_seq[0, 0] = target_token_index['START_']\n",
        "\n",
        "    # Sampling loop for a batch of sequences\n",
        "    # (to simplify, here we assume a batch of size 1).\n",
        "    stop_condition = False\n",
        "    decoded_sentence = ''\n",
        "    while not stop_condition:\n",
        "        output_tokens, h, c = decoder_model.predict([target_seq] + states_value)\n",
        "\n",
        "        # Sample a token\n",
        "        sampled_token_index = np.argmax(output_tokens[0, -1, :])\n",
        "        sampled_char = reverse_target_char_index[sampled_token_index]\n",
        "        decoded_sentence += ' '+sampled_char\n",
        "\n",
        "        # Exit condition: either hit max length\n",
        "        # or find stop character.\n",
        "        if (sampled_char == '_END' or\n",
        "           len(decoded_sentence) > 50):\n",
        "            stop_condition = True\n",
        "\n",
        "        # Update the target sequence (of length 1).\n",
        "        target_seq = np.zeros((1,1))\n",
        "        target_seq[0, 0] = sampled_token_index\n",
        "\n",
        "        # Update states\n",
        "        states_value = [h, c]\n",
        "\n",
        "    return decoded_sentence"
      ],
      "execution_count": null,
      "outputs": []
    },
    {
      "cell_type": "markdown",
      "metadata": {
        "id": "ak0yGzP0fprX",
        "colab_type": "text"
      },
      "source": [
        "### Evaluation on Train Dataset"
      ]
    },
    {
      "cell_type": "code",
      "metadata": {
        "id": "FvYXFQpYfprX",
        "colab_type": "code",
        "colab": {}
      },
      "source": [
        "train_gen = generate_batch(X_train, y_train, batch_size = 1)\n",
        "k=-1"
      ],
      "execution_count": null,
      "outputs": []
    },
    {
      "cell_type": "code",
      "metadata": {
        "id": "Zhs4v0cTvIbe",
        "colab_type": "code",
        "colab": {
          "base_uri": "https://localhost:8080/",
          "height": 181
        },
        "outputId": "5cba6653-5f35-4fd6-da4b-5ac449b66fd8"
      },
      "source": [
        "k+=1\n",
        "(input_seq, actual_output), _ = next(train_gen)\n",
        "decoded_sentence = decode_sequence(input_seq)\n",
        "print('\\033[1m'+ 'Input Russian sentence:' +'\\033[0m', X_train[k:k+1].values[0])\n",
        "print('\\033[1m'+ 'Actual English translation:' +'\\033[0m', y_train[k:k+1].values[0][6:-4])\n",
        "print('\\033[1m'+ 'Predicted English translation:' +'\\033[0m', decoded_sentence[:-4])\n",
        "nubia.score( y_train[k:k+1].values[0][6:-4], decoded_sentence[:-4], verbose=True)"
      ],
      "execution_count": null,
      "outputs": [
        {
          "output_type": "stream",
          "text": [
            "\u001b[1mInput Russian sentence:\u001b[0m том неискренний\n",
            "\u001b[1mActual English translation:\u001b[0m  tom is deceitful \n",
            "\u001b[1mPredicted English translation:\u001b[0m  it was tom \n",
            "Semantic relation: 0.7205052375793457/5.0\n",
            "Percent chance of contradiction: 26.138517260551453%\n",
            "Percent chance of irrelevancy or new information: 63.5387659072876%\n",
            "Percent chance of logical agreement: 10.322712361812592%\n",
            "\n",
            "NUBIA score: 0.46372482305638885/1.0\n"
          ],
          "name": "stdout"
        },
        {
          "output_type": "execute_result",
          "data": {
            "text/plain": [
              "0.46372482305638885"
            ]
          },
          "metadata": {
            "tags": []
          },
          "execution_count": 66
        }
      ]
    },
    {
      "cell_type": "code",
      "metadata": {
        "id": "4R1GwN-u6ZH0",
        "colab_type": "code",
        "colab": {
          "base_uri": "https://localhost:8080/",
          "height": 181
        },
        "outputId": "39f1d4c6-21a3-41e2-8eb2-25e6ed85a81d"
      },
      "source": [
        "k+=1\n",
        "(input_seq, actual_output), _ = next(train_gen)\n",
        "decoded_sentence = decode_sequence(input_seq)\n",
        "print('\\033[1m'+ 'Input Russian sentence:' +'\\033[0m', X_train[k:k+1].values[0])\n",
        "print('\\033[1m'+ 'Actual English translation:' +'\\033[0m', y_train[k:k+1].values[0][6:-4])\n",
        "print('\\033[1m'+ 'Predicted English translation:' +'\\033[0m', decoded_sentence[:-4])\n",
        "nubia.score( y_train[k:k+1].values[0][6:-4], decoded_sentence[:-4], verbose=True)"
      ],
      "execution_count": null,
      "outputs": [
        {
          "output_type": "stream",
          "text": [
            "\u001b[1mInput Russian sentence:\u001b[0m сейчас половина четвёртого\n",
            "\u001b[1mActual English translation:\u001b[0m  its \n",
            "\u001b[1mPredicted English translation:\u001b[0m  its \n",
            "Semantic relation: 0.9941844940185547/5.0\n",
            "Percent chance of contradiction: 12.43942603468895%\n",
            "Percent chance of irrelevancy or new information: 17.079484462738037%\n",
            "Percent chance of logical agreement: 70.48108577728271%\n",
            "\n",
            "NUBIA score: 1.0/1.0\n"
          ],
          "name": "stdout"
        },
        {
          "output_type": "execute_result",
          "data": {
            "text/plain": [
              "1.0"
            ]
          },
          "metadata": {
            "tags": []
          },
          "execution_count": 29
        }
      ]
    },
    {
      "cell_type": "code",
      "metadata": {
        "id": "DRlbQTh-60IM",
        "colab_type": "code",
        "colab": {
          "base_uri": "https://localhost:8080/",
          "height": 181
        },
        "outputId": "6184f0ff-2908-4bd2-e0d9-61eb4b9e82c2"
      },
      "source": [
        "k+=1\n",
        "(input_seq, actual_output), _ = next(train_gen)\n",
        "decoded_sentence = decode_sequence(input_seq)\n",
        "print('\\033[1m'+ 'Input Russian sentence:' +'\\033[0m', X_train[k:k+1].values[0])\n",
        "print('\\033[1m'+ 'Actual English translation:' +'\\033[0m', y_train[k:k+1].values[0][6:-4])\n",
        "print('\\033[1m'+ 'Predicted English translation:' +'\\033[0m', decoded_sentence[:-4])\n",
        "nubia.score( y_train[k:k+1].values[0][6:-4], decoded_sentence[:-4], verbose=True)"
      ],
      "execution_count": null,
      "outputs": [
        {
          "output_type": "stream",
          "text": [
            "\u001b[1mInput Russian sentence:\u001b[0m я не рад\n",
            "\u001b[1mActual English translation:\u001b[0m  im not happy \n",
            "\u001b[1mPredicted English translation:\u001b[0m  im not happy \n",
            "Semantic relation: 5.0/5.0\n",
            "Percent chance of contradiction: 0.13122111558914185%\n",
            "Percent chance of irrelevancy or new information: 1.2676193378865719%\n",
            "Percent chance of logical agreement: 98.60115647315979%\n",
            "\n",
            "NUBIA score: 1.0/1.0\n"
          ],
          "name": "stdout"
        },
        {
          "output_type": "execute_result",
          "data": {
            "text/plain": [
              "1.0"
            ]
          },
          "metadata": {
            "tags": []
          },
          "execution_count": 34
        }
      ]
    },
    {
      "cell_type": "code",
      "metadata": {
        "id": "P6FhqpaL69EJ",
        "colab_type": "code",
        "colab": {
          "base_uri": "https://localhost:8080/",
          "height": 181
        },
        "outputId": "ea3d2f5e-ff69-4211-f21e-3e0b6e901b79"
      },
      "source": [
        "k+=1\n",
        "(input_seq, actual_output), _ = next(train_gen)\n",
        "decoded_sentence = decode_sequence(input_seq)\n",
        "print('\\033[1m'+ 'Input Russian sentence:' +'\\033[0m', X_train[k:k+1].values[0])\n",
        "print('\\033[1m'+ 'Actual English translation:' +'\\033[0m', y_train[k:k+1].values[0][6:-4])\n",
        "print('\\033[1m'+ 'Predicted English translation:' +'\\033[0m', decoded_sentence[:-4])\n",
        "nubia.score( y_train[k:k+1].values[0][6:-4], decoded_sentence[:-4], verbose=True)"
      ],
      "execution_count": null,
      "outputs": [
        {
          "output_type": "stream",
          "text": [
            "\u001b[1mInput Russian sentence:\u001b[0m том утвердительно кивнул\n",
            "\u001b[1mActual English translation:\u001b[0m  tom nodded ok \n",
            "\u001b[1mPredicted English translation:\u001b[0m  you need to rest \n",
            "Semantic relation: 1.2755951881408691/5.0\n",
            "Percent chance of contradiction: 0.6392671260982752%\n",
            "Percent chance of irrelevancy or new information: 99.14755821228027%\n",
            "Percent chance of logical agreement: 0.21317268256098032%\n",
            "\n",
            "NUBIA score: 0.636071633401742/1.0\n"
          ],
          "name": "stdout"
        },
        {
          "output_type": "execute_result",
          "data": {
            "text/plain": [
              "0.636071633401742"
            ]
          },
          "metadata": {
            "tags": []
          },
          "execution_count": 69
        }
      ]
    },
    {
      "cell_type": "markdown",
      "metadata": {
        "id": "gx1mM4W8fpsv",
        "colab_type": "text"
      },
      "source": [
        "### Evaluation on Validation Dataset"
      ]
    },
    {
      "cell_type": "code",
      "metadata": {
        "id": "A0I34CZxfpsv",
        "colab_type": "code",
        "colab": {}
      },
      "source": [
        "val_gen = generate_batch(X_test, y_test, batch_size = 1)\n",
        "k=-1"
      ],
      "execution_count": null,
      "outputs": []
    },
    {
      "cell_type": "code",
      "metadata": {
        "id": "vv9eePYxfpsx",
        "colab_type": "code",
        "colab": {
          "base_uri": "https://localhost:8080/",
          "height": 181
        },
        "outputId": "b48934e9-16af-4056-9116-baf1a9a0c3a0"
      },
      "source": [
        "k+=1\n",
        "(input_seq, actual_output), _ = next(val_gen)\n",
        "decoded_sentence = decode_sequence(input_seq)\n",
        "print('\\033[1m'+ 'Input Russian sentence:' +'\\033[0m', X_test[k:k+1].values[0])\n",
        "print('\\033[1m'+ 'Actual English translation:' +'\\033[0m', y_test[k:k+1].values[0][6:-4])\n",
        "print('\\033[1m'+ 'Predicted English translation:' +'\\033[0m', decoded_sentence[:-4])\n",
        "nubia.score( y_test[k:k+1].values[0][6:-4], decoded_sentence[:-4], verbose=True)"
      ],
      "execution_count": null,
      "outputs": [
        {
          "output_type": "stream",
          "text": [
            "\u001b[1mInput Russian sentence:\u001b[0m том понял\n",
            "\u001b[1mActual English translation:\u001b[0m  tom understood \n",
            "\u001b[1mPredicted English translation:\u001b[0m  tom got me \n",
            "Semantic relation: 0.8201012015342712/5.0\n",
            "Percent chance of contradiction: 0.5283449776470661%\n",
            "Percent chance of irrelevancy or new information: 18.161186575889587%\n",
            "Percent chance of logical agreement: 81.31047487258911%\n",
            "\n",
            "NUBIA score: 0.6968490218583063/1.0\n"
          ],
          "name": "stdout"
        },
        {
          "output_type": "execute_result",
          "data": {
            "text/plain": [
              "0.6968490218583063"
            ]
          },
          "metadata": {
            "tags": []
          },
          "execution_count": 74
        }
      ]
    },
    {
      "cell_type": "code",
      "metadata": {
        "id": "pHa75jgtfpsx",
        "colab_type": "code",
        "colab": {
          "base_uri": "https://localhost:8080/",
          "height": 181
        },
        "outputId": "8c12ddee-146f-40aa-8afb-288e9d252b85"
      },
      "source": [
        "k+=1\n",
        "(input_seq, actual_output), _ = next(val_gen)\n",
        "decoded_sentence = decode_sequence(input_seq)\n",
        "print('\\033[1m'+ 'Input Russian sentence:' +'\\033[0m', X_test[k:k+1].values[0])\n",
        "print('\\033[1m'+ 'Actual English translation:' +'\\033[0m', y_test[k:k+1].values[0][6:-4])\n",
        "print('\\033[1m'+ 'Predicted English translation:' +'\\033[0m', decoded_sentence[:-4])\n",
        "nubia.score( y_test[k:k+1].values[0][6:-4], decoded_sentence[:-4], verbose=True)"
      ],
      "execution_count": null,
      "outputs": [
        {
          "output_type": "stream",
          "text": [
            "\u001b[1mInput Russian sentence:\u001b[0m что ты сказал\n",
            "\u001b[1mActual English translation:\u001b[0m  what did you say \n",
            "\u001b[1mPredicted English translation:\u001b[0m  what did you say \n",
            "Semantic relation: 4.840568542480469/5.0\n",
            "Percent chance of contradiction: 1.623729057610035%\n",
            "Percent chance of irrelevancy or new information: 1.166675891727209%\n",
            "Percent chance of logical agreement: 97.20959663391113%\n",
            "\n",
            "NUBIA score: 1.0/1.0\n"
          ],
          "name": "stdout"
        },
        {
          "output_type": "execute_result",
          "data": {
            "text/plain": [
              "1.0"
            ]
          },
          "metadata": {
            "tags": []
          },
          "execution_count": 76
        }
      ]
    },
    {
      "cell_type": "code",
      "metadata": {
        "id": "MChVnBz0fptf",
        "colab_type": "code",
        "colab": {
          "base_uri": "https://localhost:8080/",
          "height": 181
        },
        "outputId": "5a761866-e2c3-44c1-fb51-63f911363c0a"
      },
      "source": [
        "k+=1\n",
        "(input_seq, actual_output), _ = next(val_gen)\n",
        "decoded_sentence = decode_sequence(input_seq)\n",
        "print('\\033[1m'+ 'Input Russian sentence:' +'\\033[0m', X_test[k:k+1].values[0])\n",
        "print('\\033[1m'+ 'Actual English translation:' +'\\033[0m', y_test[k:k+1].values[0][6:-4])\n",
        "print('\\033[1m'+ 'Predicted English translation:' +'\\033[0m', decoded_sentence[:-4])\n",
        "nubia.score( y_test[k:k+1].values[0][6:-4], decoded_sentence[:-4], verbose=True)"
      ],
      "execution_count": null,
      "outputs": [
        {
          "output_type": "stream",
          "text": [
            "\u001b[1mInput Russian sentence:\u001b[0m том ошибался\n",
            "\u001b[1mActual English translation:\u001b[0m  tom was wrong \n",
            "\u001b[1mPredicted English translation:\u001b[0m  tom was wrong \n",
            "Semantic relation: 3.431398868560791/5.0\n",
            "Percent chance of contradiction: 0.1719208201393485%\n",
            "Percent chance of irrelevancy or new information: 1.0978682897984982%\n",
            "Percent chance of logical agreement: 98.73020648956299%\n",
            "\n",
            "NUBIA score: 1.0/1.0\n"
          ],
          "name": "stdout"
        },
        {
          "output_type": "execute_result",
          "data": {
            "text/plain": [
              "1.0"
            ]
          },
          "metadata": {
            "tags": []
          },
          "execution_count": 78
        }
      ]
    },
    {
      "cell_type": "code",
      "metadata": {
        "id": "j3GB2z0d6bi2",
        "colab_type": "code",
        "colab": {
          "base_uri": "https://localhost:8080/",
          "height": 181
        },
        "outputId": "69b6d0d0-188c-4175-ddc2-34a6dfe8edcb"
      },
      "source": [
        "k+=1\n",
        "(input_seq, actual_output), _ = next(val_gen)\n",
        "decoded_sentence = decode_sequence(input_seq)\n",
        "print('\\033[1m'+ 'Input Russian sentence:' +'\\033[0m', X_test[k:k+1].values[0])\n",
        "print('\\033[1m'+ 'Actual English translation:' +'\\033[0m', y_test[k:k+1].values[0][6:-4])\n",
        "print('\\033[1m'+ 'Predicted English translation:' +'\\033[0m', decoded_sentence[:-4])\n",
        "nubia.score( y_test[k:k+1].values[0][6:-4], decoded_sentence[:-4], verbose=True)"
      ],
      "execution_count": null,
      "outputs": [
        {
          "output_type": "stream",
          "text": [
            "\u001b[1mInput Russian sentence:\u001b[0m том улыбается\n",
            "\u001b[1mActual English translation:\u001b[0m  tom is smiling \n",
            "\u001b[1mPredicted English translation:\u001b[0m  is tom that \n",
            "Semantic relation: 0.523308515548706/5.0\n",
            "Percent chance of contradiction: 13.652493059635162%\n",
            "Percent chance of irrelevancy or new information: 63.55921030044556%\n",
            "Percent chance of logical agreement: 22.788292169570923%\n",
            "\n",
            "NUBIA score: 0.6446189319106739/1.0\n"
          ],
          "name": "stdout"
        },
        {
          "output_type": "execute_result",
          "data": {
            "text/plain": [
              "0.6446189319106739"
            ]
          },
          "metadata": {
            "tags": []
          },
          "execution_count": 38
        }
      ]
    },
    {
      "cell_type": "code",
      "metadata": {
        "id": "wLqke_HVdr0-",
        "colab_type": "code",
        "colab": {
          "base_uri": "https://localhost:8080/",
          "height": 181
        },
        "outputId": "50c08694-b813-43d9-ebda-d87e79a14769"
      },
      "source": [
        "k+=1\n",
        "(input_seq, actual_output), _ = next(val_gen)\n",
        "decoded_sentence = decode_sequence(input_seq)\n",
        "print('\\033[1m'+ 'Input Russian sentence:' +'\\033[0m', X_test[k:k+1].values[0])\n",
        "print('\\033[1m'+ 'Actual English translation:' +'\\033[0m', y_test[k:k+1].values[0][6:-4])\n",
        "print('\\033[1m'+ 'Predicted English translation:' +'\\033[0m', decoded_sentence[:-4])\n",
        "nubia.score( y_test[k:k+1].values[0][6:-4], decoded_sentence[:-4], verbose=True)"
      ],
      "execution_count": null,
      "outputs": [
        {
          "output_type": "stream",
          "text": [
            "\u001b[1mInput Russian sentence:\u001b[0m у него не было денег\n",
            "\u001b[1mActual English translation:\u001b[0m  he had no money \n",
            "\u001b[1mPredicted English translation:\u001b[0m  he had no money \n",
            "Semantic relation: 4.994417190551758/5.0\n",
            "Percent chance of contradiction: 0.2987137297168374%\n",
            "Percent chance of irrelevancy or new information: 0.9756773710250854%\n",
            "Percent chance of logical agreement: 98.72560501098633%\n",
            "\n",
            "NUBIA score: 1.0/1.0\n"
          ],
          "name": "stdout"
        },
        {
          "output_type": "execute_result",
          "data": {
            "text/plain": [
              "1.0"
            ]
          },
          "metadata": {
            "tags": []
          },
          "execution_count": 83
        }
      ]
    },
    {
      "cell_type": "code",
      "metadata": {
        "id": "c4WofOIq6c23",
        "colab_type": "code",
        "colab": {
          "base_uri": "https://localhost:8080/",
          "height": 181
        },
        "outputId": "3579ae61-cd41-4c96-da9c-25468db65429"
      },
      "source": [
        "k+=1\n",
        "(input_seq, actual_output), _ = next(val_gen)\n",
        "decoded_sentence = decode_sequence(input_seq)\n",
        "print('\\033[1m'+ 'Input Russian sentence:' +'\\033[0m', X_test[k:k+1].values[0])\n",
        "print('\\033[1m'+ 'Actual English translation:' +'\\033[0m', y_test[k:k+1].values[0][6:-4])\n",
        "print('\\033[1m'+ 'Predicted English translation:' +'\\033[0m', decoded_sentence[:-4])\n",
        "nubia.score( y_test[k:k+1].values[0][6:-4], decoded_sentence[:-4], verbose=True)"
      ],
      "execution_count": null,
      "outputs": [
        {
          "output_type": "stream",
          "text": [
            "\u001b[1mInput Russian sentence:\u001b[0m здесь я чувствую себя в безопасности\n",
            "\u001b[1mActual English translation:\u001b[0m  i feel safe here \n",
            "\u001b[1mPredicted English translation:\u001b[0m  i feel safe here \n",
            "Semantic relation: 5.0/5.0\n",
            "Percent chance of contradiction: 0.2057696459814906%\n",
            "Percent chance of irrelevancy or new information: 0.8651942014694214%\n",
            "Percent chance of logical agreement: 98.92902970314026%\n",
            "\n",
            "NUBIA score: 1.0/1.0\n"
          ],
          "name": "stdout"
        },
        {
          "output_type": "execute_result",
          "data": {
            "text/plain": [
              "1.0"
            ]
          },
          "metadata": {
            "tags": []
          },
          "execution_count": 39
        }
      ]
    },
    {
      "cell_type": "code",
      "metadata": {
        "id": "FeBaBYr-gwjQ",
        "colab_type": "code",
        "colab": {
          "base_uri": "https://localhost:8080/",
          "height": 181
        },
        "outputId": "9138552d-6bed-4310-fd56-6126be5cfcf8"
      },
      "source": [
        "k+=1\n",
        "(input_seq, actual_output), _ = next(val_gen)\n",
        "decoded_sentence = decode_sequence(input_seq)\n",
        "print('\\033[1m'+ 'Input Russian sentence:' +'\\033[0m', X_test[k:k+1].values[0])\n",
        "print('\\033[1m'+ 'Actual English translation:' +'\\033[0m', y_test[k:k+1].values[0][6:-4])\n",
        "print('\\033[1m'+ 'Predicted English translation:' +'\\033[0m', decoded_sentence[:-4])\n",
        "nubia.score( y_test[k:k+1].values[0][6:-4], decoded_sentence[:-4], verbose=True)"
      ],
      "execution_count": null,
      "outputs": [
        {
          "output_type": "stream",
          "text": [
            "\u001b[1mInput Russian sentence:\u001b[0m том обычный\n",
            "\u001b[1mActual English translation:\u001b[0m  tom is average \n",
            "\u001b[1mPredicted English translation:\u001b[0m  tom is the it \n",
            "Semantic relation: 0.39058321714401245/5.0\n",
            "Percent chance of contradiction: 11.835534870624542%\n",
            "Percent chance of irrelevancy or new information: 35.64484417438507%\n",
            "Percent chance of logical agreement: 52.519625425338745%\n",
            "\n",
            "NUBIA score: 0.7691212112414394/1.0\n"
          ],
          "name": "stdout"
        },
        {
          "output_type": "execute_result",
          "data": {
            "text/plain": [
              "0.7691212112414394"
            ]
          },
          "metadata": {
            "tags": []
          },
          "execution_count": 44
        }
      ]
    }
  ]
}