{
  "nbformat": 4,
  "nbformat_minor": 0,
  "metadata": {
    "kernelspec": {
      "display_name": "Python 3",
      "language": "python",
      "name": "python3"
    },
    "language_info": {
      "codemirror_mode": {
        "name": "ipython",
        "version": 3
      },
      "file_extension": ".py",
      "mimetype": "text/x-python",
      "name": "python",
      "nbconvert_exporter": "python",
      "pygments_lexer": "ipython3",
      "version": "3.7.7"
    },
    "colab": {
      "name": "GRU_en-ru_with_time.ipynb",
      "provenance": [],
      "collapsed_sections": []
    }
  },
  "cells": [
    {
      "cell_type": "code",
      "metadata": {
        "id": "5LAfE2SHft3V",
        "colab_type": "code",
        "colab": {
          "base_uri": "https://localhost:8080/",
          "height": 32
        },
        "outputId": "c6bb8e6e-2907-4752-9ec0-9dc8bb2ec0a6"
      },
      "source": [
        "from google.colab import drive\n",
        "drive.mount('/content/drive')"
      ],
      "execution_count": null,
      "outputs": [
        {
          "output_type": "stream",
          "text": [
            "Drive already mounted at /content/drive; to attempt to forcibly remount, call drive.mount(\"/content/drive\", force_remount=True).\n"
          ],
          "name": "stdout"
        }
      ]
    },
    {
      "cell_type": "code",
      "metadata": {
        "id": "NVPOFaaZ38qB",
        "colab_type": "code",
        "colab": {
          "base_uri": "https://localhost:8080/",
          "height": 32
        },
        "outputId": "1eae099e-5375-4056-962e-2e98e8f65b51"
      },
      "source": [
        "!git clone https://github.com/wl-research/nubia.git\n",
        "import os\n",
        "os.chdir('nubia')"
      ],
      "execution_count": null,
      "outputs": [
        {
          "output_type": "stream",
          "text": [
            "fatal: destination path 'nubia' already exists and is not an empty directory.\n"
          ],
          "name": "stdout"
        }
      ]
    },
    {
      "cell_type": "code",
      "metadata": {
        "id": "aVxCYrjn4ETH",
        "colab_type": "code",
        "colab": {
          "base_uri": "https://localhost:8080/",
          "height": 547
        },
        "outputId": "b5fb7aad-ff87-427d-cd52-2bb3c1c51419"
      },
      "source": [
        "!pip install -r requirements.txt"
      ],
      "execution_count": null,
      "outputs": [
        {
          "output_type": "stream",
          "text": [
            "Requirement already satisfied: torch>=1.4.0 in /usr/local/lib/python3.6/dist-packages (from -r requirements.txt (line 1)) (1.5.0+cu101)\n",
            "Requirement already satisfied: fairseq in /usr/local/lib/python3.6/dist-packages (from -r requirements.txt (line 2)) (0.9.0)\n",
            "Requirement already satisfied: pytorch-transformers in /usr/local/lib/python3.6/dist-packages (from -r requirements.txt (line 3)) (1.2.0)\n",
            "Requirement already satisfied: numpy>=1.18.2 in /usr/local/lib/python3.6/dist-packages (from -r requirements.txt (line 4)) (1.18.5)\n",
            "Requirement already satisfied: joblib in /usr/local/lib/python3.6/dist-packages (from -r requirements.txt (line 5)) (0.15.1)\n",
            "Requirement already satisfied: scikit-learn>=0.22.2 in /usr/local/lib/python3.6/dist-packages (from -r requirements.txt (line 6)) (0.22.2.post1)\n",
            "Requirement already satisfied: wget in /usr/local/lib/python3.6/dist-packages (from -r requirements.txt (line 7)) (3.2)\n",
            "Requirement already satisfied: future in /usr/local/lib/python3.6/dist-packages (from torch>=1.4.0->-r requirements.txt (line 1)) (0.16.0)\n",
            "Requirement already satisfied: cffi in /usr/local/lib/python3.6/dist-packages (from fairseq->-r requirements.txt (line 2)) (1.14.0)\n",
            "Requirement already satisfied: regex in /usr/local/lib/python3.6/dist-packages (from fairseq->-r requirements.txt (line 2)) (2019.12.20)\n",
            "Requirement already satisfied: cython in /usr/local/lib/python3.6/dist-packages (from fairseq->-r requirements.txt (line 2)) (0.29.19)\n",
            "Requirement already satisfied: tqdm in /usr/local/lib/python3.6/dist-packages (from fairseq->-r requirements.txt (line 2)) (4.41.1)\n",
            "Requirement already satisfied: sacrebleu in /usr/local/lib/python3.6/dist-packages (from fairseq->-r requirements.txt (line 2)) (1.4.10)\n",
            "Requirement already satisfied: requests in /usr/local/lib/python3.6/dist-packages (from pytorch-transformers->-r requirements.txt (line 3)) (2.23.0)\n",
            "Requirement already satisfied: sentencepiece in /usr/local/lib/python3.6/dist-packages (from pytorch-transformers->-r requirements.txt (line 3)) (0.1.91)\n",
            "Requirement already satisfied: sacremoses in /usr/local/lib/python3.6/dist-packages (from pytorch-transformers->-r requirements.txt (line 3)) (0.0.43)\n",
            "Requirement already satisfied: boto3 in /usr/local/lib/python3.6/dist-packages (from pytorch-transformers->-r requirements.txt (line 3)) (1.13.23)\n",
            "Requirement already satisfied: scipy>=0.17.0 in /usr/local/lib/python3.6/dist-packages (from scikit-learn>=0.22.2->-r requirements.txt (line 6)) (1.4.1)\n",
            "Requirement already satisfied: pycparser in /usr/local/lib/python3.6/dist-packages (from cffi->fairseq->-r requirements.txt (line 2)) (2.20)\n",
            "Requirement already satisfied: portalocker in /usr/local/lib/python3.6/dist-packages (from sacrebleu->fairseq->-r requirements.txt (line 2)) (1.7.0)\n",
            "Requirement already satisfied: chardet<4,>=3.0.2 in /usr/local/lib/python3.6/dist-packages (from requests->pytorch-transformers->-r requirements.txt (line 3)) (3.0.4)\n",
            "Requirement already satisfied: urllib3!=1.25.0,!=1.25.1,<1.26,>=1.21.1 in /usr/local/lib/python3.6/dist-packages (from requests->pytorch-transformers->-r requirements.txt (line 3)) (1.24.3)\n",
            "Requirement already satisfied: idna<3,>=2.5 in /usr/local/lib/python3.6/dist-packages (from requests->pytorch-transformers->-r requirements.txt (line 3)) (2.9)\n",
            "Requirement already satisfied: certifi>=2017.4.17 in /usr/local/lib/python3.6/dist-packages (from requests->pytorch-transformers->-r requirements.txt (line 3)) (2020.4.5.1)\n",
            "Requirement already satisfied: click in /usr/local/lib/python3.6/dist-packages (from sacremoses->pytorch-transformers->-r requirements.txt (line 3)) (7.1.2)\n",
            "Requirement already satisfied: six in /usr/local/lib/python3.6/dist-packages (from sacremoses->pytorch-transformers->-r requirements.txt (line 3)) (1.12.0)\n",
            "Requirement already satisfied: jmespath<1.0.0,>=0.7.1 in /usr/local/lib/python3.6/dist-packages (from boto3->pytorch-transformers->-r requirements.txt (line 3)) (0.10.0)\n",
            "Requirement already satisfied: s3transfer<0.4.0,>=0.3.0 in /usr/local/lib/python3.6/dist-packages (from boto3->pytorch-transformers->-r requirements.txt (line 3)) (0.3.3)\n",
            "Requirement already satisfied: botocore<1.17.0,>=1.16.23 in /usr/local/lib/python3.6/dist-packages (from boto3->pytorch-transformers->-r requirements.txt (line 3)) (1.16.23)\n",
            "Requirement already satisfied: docutils<0.16,>=0.10 in /usr/local/lib/python3.6/dist-packages (from botocore<1.17.0,>=1.16.23->boto3->pytorch-transformers->-r requirements.txt (line 3)) (0.15.2)\n",
            "Requirement already satisfied: python-dateutil<3.0.0,>=2.1 in /usr/local/lib/python3.6/dist-packages (from botocore<1.17.0,>=1.16.23->boto3->pytorch-transformers->-r requirements.txt (line 3)) (2.8.1)\n"
          ],
          "name": "stdout"
        }
      ]
    },
    {
      "cell_type": "code",
      "metadata": {
        "ExecuteTime": {
          "end_time": "2020-06-15T12:18:54.691402Z",
          "start_time": "2020-06-15T12:18:46.254594Z"
        },
        "id": "ldJDWGq8fpqG",
        "colab_type": "code",
        "colab": {}
      },
      "source": [
        "import pandas as pd\n",
        "import numpy as np\n",
        "import string\n",
        "from string import digits\n",
        "import re\n",
        "from sklearn.utils import shuffle\n",
        "from sklearn.model_selection import train_test_split\n",
        "from keras.layers import Input, GRU, Embedding, Dense\n",
        "from keras.models import Model\n",
        "from nubia import Nubia\n",
        "import datetime"
      ],
      "execution_count": null,
      "outputs": []
    },
    {
      "cell_type": "code",
      "metadata": {
        "id": "SZi7JvJt4aAF",
        "colab_type": "code",
        "colab": {
          "base_uri": "https://localhost:8080/",
          "height": 82
        },
        "outputId": "711bb83c-3639-48d7-fb58-9418a319b0ff"
      },
      "source": [
        "nubia = Nubia()"
      ],
      "execution_count": null,
      "outputs": [
        {
          "output_type": "stream",
          "text": [
            "loading archive file pretrained/roBERTa_STS\n",
            "| [input] dictionary: 50265 types\n",
            "loading archive file pretrained/roBERTa_MNLI\n",
            "| dictionary: 50264 types\n"
          ],
          "name": "stdout"
        }
      ]
    },
    {
      "cell_type": "code",
      "metadata": {
        "ExecuteTime": {
          "end_time": "2020-06-15T12:18:55.545056Z",
          "start_time": "2020-06-15T12:18:55.396848Z"
        },
        "id": "VCCe4UPRfpqO",
        "colab_type": "code",
        "colab": {}
      },
      "source": [
        "lines= pd.read_table('/content/drive/My Drive/rus.txt', names=['rus','eng', '1'])"
      ],
      "execution_count": null,
      "outputs": []
    },
    {
      "cell_type": "code",
      "metadata": {
        "id": "P0l0PDFOhOWN",
        "colab_type": "code",
        "colab": {}
      },
      "source": [
        "lines = lines.drop(['1'], axis=1)\n",
        "lines = lines[:38696]\n",
        "lines = shuffle(lines)"
      ],
      "execution_count": null,
      "outputs": []
    },
    {
      "cell_type": "code",
      "metadata": {
        "ExecuteTime": {
          "end_time": "2020-06-15T12:18:56.528523Z",
          "start_time": "2020-06-15T12:18:56.519999Z"
        },
        "id": "HgUrhWcffpqV",
        "colab_type": "code",
        "colab": {
          "base_uri": "https://localhost:8080/",
          "height": 32
        },
        "outputId": "0a2a25a9-b546-4e9e-801b-7d2cb594b910"
      },
      "source": [
        "lines.shape"
      ],
      "execution_count": null,
      "outputs": [
        {
          "output_type": "execute_result",
          "data": {
            "text/plain": [
              "(38696, 2)"
            ]
          },
          "metadata": {
            "tags": []
          },
          "execution_count": 9
        }
      ]
    },
    {
      "cell_type": "code",
      "metadata": {
        "ExecuteTime": {
          "end_time": "2020-06-15T12:18:57.459215Z",
          "start_time": "2020-06-15T12:18:57.405476Z"
        },
        "id": "ipJ7WZoJfpqc",
        "colab_type": "code",
        "colab": {}
      },
      "source": [
        "# Lowercase all characters\n",
        "lines.eng=lines.eng.apply(lambda x: x.lower())\n",
        "lines.rus=lines.rus.apply(lambda x: x.lower())\n",
        "\n",
        "# Remove quotes\n",
        "lines.eng=lines.eng.apply(lambda x: re.sub(\"'\", '', x))\n",
        "lines.rus=lines.rus.apply(lambda x: re.sub(\"'\", '', x))\n",
        "\n",
        "exclude = set(string.punctuation) # Set of all special characters\n",
        "# Remove all the special characters\n",
        "lines.eng=lines.eng.apply(lambda x: ''.join(ch for ch in x if ch not in exclude))\n",
        "lines.rus=lines.rus.apply(lambda x: ''.join(ch for ch in x if ch not in exclude))\n",
        "\n",
        "# Remove all numbers from text\n",
        "remove_digits = str.maketrans('', '', digits)\n",
        "lines.eng = lines.eng.apply(lambda x: x.translate(remove_digits))\n",
        "lines.rus = lines.rus.apply(lambda x: x.translate(remove_digits))\n",
        "\n",
        "# Remove extra spaces\n",
        "lines.eng=lines.eng.apply(lambda x: x.strip())\n",
        "lines.rus=lines.rus.apply(lambda x: x.strip())\n",
        "lines.eng=lines.eng.apply(lambda x: re.sub(\" +\", \" \", x))\n",
        "lines.rus=lines.rus.apply(lambda x: re.sub(\" +\", \" \", x))\n",
        "\n",
        "# Add start and end tokens to target sequences\n",
        "lines.eng = lines.eng.apply(lambda x : 'START_ '+ x + ' _END')"
      ],
      "execution_count": null,
      "outputs": []
    },
    {
      "cell_type": "code",
      "metadata": {
        "ExecuteTime": {
          "end_time": "2020-06-15T12:19:01.984516Z",
          "start_time": "2020-06-15T12:19:01.965691Z"
        },
        "id": "wvelqp93fpqu",
        "colab_type": "code",
        "colab": {
          "base_uri": "https://localhost:8080/",
          "height": 352
        },
        "outputId": "da2373df-7d19-46ea-af70-2659d380b85b"
      },
      "source": [
        "lines.sample(10)"
      ],
      "execution_count": null,
      "outputs": [
        {
          "output_type": "execute_result",
          "data": {
            "text/html": [
              "<div>\n",
              "<style scoped>\n",
              "    .dataframe tbody tr th:only-of-type {\n",
              "        vertical-align: middle;\n",
              "    }\n",
              "\n",
              "    .dataframe tbody tr th {\n",
              "        vertical-align: top;\n",
              "    }\n",
              "\n",
              "    .dataframe thead th {\n",
              "        text-align: right;\n",
              "    }\n",
              "</style>\n",
              "<table border=\"1\" class=\"dataframe\">\n",
              "  <thead>\n",
              "    <tr style=\"text-align: right;\">\n",
              "      <th></th>\n",
              "      <th>rus</th>\n",
              "      <th>eng</th>\n",
              "    </tr>\n",
              "  </thead>\n",
              "  <tbody>\n",
              "    <tr>\n",
              "      <th>11876</th>\n",
              "      <td>this is a pen</td>\n",
              "      <td>START_ это шариковая ручка _END</td>\n",
              "    </tr>\n",
              "    <tr>\n",
              "      <th>24357</th>\n",
              "      <td>tom is no saint</td>\n",
              "      <td>START_ том не святой _END</td>\n",
              "    </tr>\n",
              "    <tr>\n",
              "      <th>9191</th>\n",
              "      <td>hang on tight</td>\n",
              "      <td>START_ держись крепче _END</td>\n",
              "    </tr>\n",
              "    <tr>\n",
              "      <th>1800</th>\n",
              "      <td>youre ok</td>\n",
              "      <td>START_ ты в порядке _END</td>\n",
              "    </tr>\n",
              "    <tr>\n",
              "      <th>19849</th>\n",
              "      <td>go to the store</td>\n",
              "      <td>START_ сходите в магазин _END</td>\n",
              "    </tr>\n",
              "    <tr>\n",
              "      <th>21408</th>\n",
              "      <td>i was horrified</td>\n",
              "      <td>START_ я ужаснулась _END</td>\n",
              "    </tr>\n",
              "    <tr>\n",
              "      <th>10436</th>\n",
              "      <td>im committed</td>\n",
              "      <td>START_ я идейная _END</td>\n",
              "    </tr>\n",
              "    <tr>\n",
              "      <th>24251</th>\n",
              "      <td>tom is a priest</td>\n",
              "      <td>START_ том священник _END</td>\n",
              "    </tr>\n",
              "    <tr>\n",
              "      <th>3234</th>\n",
              "      <td>be sensible</td>\n",
              "      <td>START_ будь благоразумна _END</td>\n",
              "    </tr>\n",
              "    <tr>\n",
              "      <th>22312</th>\n",
              "      <td>it makes me sad</td>\n",
              "      <td>START_ меня это расстраивает _END</td>\n",
              "    </tr>\n",
              "  </tbody>\n",
              "</table>\n",
              "</div>"
            ],
            "text/plain": [
              "                   rus                                eng\n",
              "11876    this is a pen    START_ это шариковая ручка _END\n",
              "24357  tom is no saint          START_ том не святой _END\n",
              "9191     hang on tight         START_ держись крепче _END\n",
              "1800          youre ok           START_ ты в порядке _END\n",
              "19849  go to the store      START_ сходите в магазин _END\n",
              "21408  i was horrified           START_ я ужаснулась _END\n",
              "10436     im committed              START_ я идейная _END\n",
              "24251  tom is a priest          START_ том священник _END\n",
              "3234       be sensible      START_ будь благоразумна _END\n",
              "22312  it makes me sad  START_ меня это расстраивает _END"
            ]
          },
          "metadata": {
            "tags": []
          },
          "execution_count": 11
        }
      ]
    },
    {
      "cell_type": "code",
      "metadata": {
        "ExecuteTime": {
          "end_time": "2020-06-15T12:19:02.940437Z",
          "start_time": "2020-06-15T12:19:02.677135Z"
        },
        "id": "zkWxdPIMfpqx",
        "colab_type": "code",
        "colab": {}
      },
      "source": [
        "# Vocabulary of Russian\n",
        "all_rus_words=set()\n",
        "for rus in lines.rus:\n",
        "    for word in rus.split():\n",
        "        if word not in all_rus_words:\n",
        "            all_rus_words.add(word)\n",
        "\n",
        "# Vocabulary of English \n",
        "all_eng_words=set()\n",
        "for eng in lines.eng:\n",
        "    for word in eng.split():\n",
        "        if word not in all_eng_words:\n",
        "            all_eng_words.add(word)"
      ],
      "execution_count": null,
      "outputs": []
    },
    {
      "cell_type": "code",
      "metadata": {
        "ExecuteTime": {
          "end_time": "2020-06-15T12:19:10.826145Z",
          "start_time": "2020-06-15T12:19:10.781636Z"
        },
        "id": "yDir9XHsfpqz",
        "colab_type": "code",
        "colab": {
          "base_uri": "https://localhost:8080/",
          "height": 32
        },
        "outputId": "51452301-bfaf-46c7-f582-04678c64f9d8"
      },
      "source": [
        "# Max Length of source sequence\n",
        "lenght_list=[]\n",
        "for l in lines.rus:\n",
        "    lenght_list.append(len(l.split(' ')))\n",
        "max_length_src = np.max(lenght_list)\n",
        "max_length_src"
      ],
      "execution_count": null,
      "outputs": [
        {
          "output_type": "execute_result",
          "data": {
            "text/plain": [
              "6"
            ]
          },
          "metadata": {
            "tags": []
          },
          "execution_count": 13
        }
      ]
    },
    {
      "cell_type": "code",
      "metadata": {
        "ExecuteTime": {
          "end_time": "2020-06-15T12:19:11.592387Z",
          "start_time": "2020-06-15T12:19:11.505642Z"
        },
        "id": "auV4wcK_fpq0",
        "colab_type": "code",
        "colab": {
          "base_uri": "https://localhost:8080/",
          "height": 32
        },
        "outputId": "d7693c2a-43f5-4ea2-9639-cb0f2b651973"
      },
      "source": [
        "# Max Length of target sequence\n",
        "lenght_list=[]\n",
        "for l in lines.eng:\n",
        "    lenght_list.append(len(l.split(' ')))\n",
        "max_length_tar = np.max(lenght_list)\n",
        "max_length_tar"
      ],
      "execution_count": null,
      "outputs": [
        {
          "output_type": "execute_result",
          "data": {
            "text/plain": [
              "12"
            ]
          },
          "metadata": {
            "tags": []
          },
          "execution_count": 14
        }
      ]
    },
    {
      "cell_type": "code",
      "metadata": {
        "ExecuteTime": {
          "end_time": "2020-06-15T12:19:12.084084Z",
          "start_time": "2020-06-15T12:19:12.017022Z"
        },
        "id": "j6KshCf4fpq2",
        "colab_type": "code",
        "colab": {
          "base_uri": "https://localhost:8080/",
          "height": 32
        },
        "outputId": "50019cd6-41c5-44db-82ca-65e45319c828"
      },
      "source": [
        "input_words = sorted(list(all_rus_words))\n",
        "target_words = sorted(list(all_eng_words))\n",
        "num_encoder_tokens = len(all_rus_words)\n",
        "num_decoder_tokens = len(all_eng_words)\n",
        "num_encoder_tokens, num_decoder_tokens"
      ],
      "execution_count": null,
      "outputs": [
        {
          "output_type": "execute_result",
          "data": {
            "text/plain": [
              "(4205, 11584)"
            ]
          },
          "metadata": {
            "tags": []
          },
          "execution_count": 15
        }
      ]
    },
    {
      "cell_type": "code",
      "metadata": {
        "ExecuteTime": {
          "end_time": "2020-06-15T12:19:12.599432Z",
          "start_time": "2020-06-15T12:19:12.592908Z"
        },
        "id": "0j11Tvwufpq4",
        "colab_type": "code",
        "colab": {
          "base_uri": "https://localhost:8080/",
          "height": 32
        },
        "outputId": "9c442d00-facd-41fe-9e22-3d0af489787d"
      },
      "source": [
        "num_decoder_tokens += 1 # For zero padding\n",
        "num_encoder_tokens +=1\n",
        "num_decoder_tokens"
      ],
      "execution_count": null,
      "outputs": [
        {
          "output_type": "execute_result",
          "data": {
            "text/plain": [
              "11585"
            ]
          },
          "metadata": {
            "tags": []
          },
          "execution_count": 16
        }
      ]
    },
    {
      "cell_type": "code",
      "metadata": {
        "ExecuteTime": {
          "end_time": "2020-06-15T12:19:13.285461Z",
          "start_time": "2020-06-15T12:19:13.204485Z"
        },
        "id": "lDVGkrQEfpq6",
        "colab_type": "code",
        "colab": {}
      },
      "source": [
        "input_token_index = dict([(word, i+1) for i, word in enumerate(input_words)])\n",
        "target_token_index = dict([(word, i+1) for i, word in enumerate(target_words)])"
      ],
      "execution_count": null,
      "outputs": []
    },
    {
      "cell_type": "code",
      "metadata": {
        "ExecuteTime": {
          "end_time": "2020-06-15T12:19:13.816245Z",
          "start_time": "2020-06-15T12:19:13.788507Z"
        },
        "id": "Sw8OsDuzfpq7",
        "colab_type": "code",
        "colab": {}
      },
      "source": [
        "reverse_input_char_index = dict((i, word) for word, i in input_token_index.items())\n",
        "reverse_target_char_index = dict((i, word) for word, i in target_token_index.items())"
      ],
      "execution_count": null,
      "outputs": []
    },
    {
      "cell_type": "code",
      "metadata": {
        "ExecuteTime": {
          "end_time": "2020-06-15T12:19:14.721911Z",
          "start_time": "2020-06-15T12:19:14.697055Z"
        },
        "id": "oXXndRKQfpq9",
        "colab_type": "code",
        "colab": {
          "base_uri": "https://localhost:8080/",
          "height": 352
        },
        "outputId": "7f5b5197-815c-4060-a334-57276007014c"
      },
      "source": [
        "lines.head(10)"
      ],
      "execution_count": null,
      "outputs": [
        {
          "output_type": "execute_result",
          "data": {
            "text/html": [
              "<div>\n",
              "<style scoped>\n",
              "    .dataframe tbody tr th:only-of-type {\n",
              "        vertical-align: middle;\n",
              "    }\n",
              "\n",
              "    .dataframe tbody tr th {\n",
              "        vertical-align: top;\n",
              "    }\n",
              "\n",
              "    .dataframe thead th {\n",
              "        text-align: right;\n",
              "    }\n",
              "</style>\n",
              "<table border=\"1\" class=\"dataframe\">\n",
              "  <thead>\n",
              "    <tr style=\"text-align: right;\">\n",
              "      <th></th>\n",
              "      <th>rus</th>\n",
              "      <th>eng</th>\n",
              "    </tr>\n",
              "  </thead>\n",
              "  <tbody>\n",
              "    <tr>\n",
              "      <th>31159</th>\n",
              "      <td>look at that man</td>\n",
              "      <td>START_ посмотрите на того мужчину _END</td>\n",
              "    </tr>\n",
              "    <tr>\n",
              "      <th>14670</th>\n",
              "      <td>i have sisters</td>\n",
              "      <td>START_ у меня есть сёстры _END</td>\n",
              "    </tr>\n",
              "    <tr>\n",
              "      <th>21113</th>\n",
              "      <td>i recognize you</td>\n",
              "      <td>START_ я узнаю тебя _END</td>\n",
              "    </tr>\n",
              "    <tr>\n",
              "      <th>13033</th>\n",
              "      <td>you should go</td>\n",
              "      <td>START_ тебе стоит поехать _END</td>\n",
              "    </tr>\n",
              "    <tr>\n",
              "      <th>18519</th>\n",
              "      <td>you need to go</td>\n",
              "      <td>START_ тебе нужно поехать _END</td>\n",
              "    </tr>\n",
              "    <tr>\n",
              "      <th>5676</th>\n",
              "      <td>come on down</td>\n",
              "      <td>START_ спуститесь _END</td>\n",
              "    </tr>\n",
              "    <tr>\n",
              "      <th>26372</th>\n",
              "      <td>your time is up</td>\n",
              "      <td>START_ ваше время вышло _END</td>\n",
              "    </tr>\n",
              "    <tr>\n",
              "      <th>24215</th>\n",
              "      <td>tom hates women</td>\n",
              "      <td>START_ том ненавидит женщин _END</td>\n",
              "    </tr>\n",
              "    <tr>\n",
              "      <th>35721</th>\n",
              "      <td>are they brothers</td>\n",
              "      <td>START_ они братья _END</td>\n",
              "    </tr>\n",
              "    <tr>\n",
              "      <th>29257</th>\n",
              "      <td>i need some time</td>\n",
              "      <td>START_ мне нужно некоторое время _END</td>\n",
              "    </tr>\n",
              "  </tbody>\n",
              "</table>\n",
              "</div>"
            ],
            "text/plain": [
              "                     rus                                     eng\n",
              "31159   look at that man  START_ посмотрите на того мужчину _END\n",
              "14670     i have sisters          START_ у меня есть сёстры _END\n",
              "21113    i recognize you                START_ я узнаю тебя _END\n",
              "13033      you should go          START_ тебе стоит поехать _END\n",
              "18519     you need to go          START_ тебе нужно поехать _END\n",
              "5676        come on down                  START_ спуститесь _END\n",
              "26372    your time is up            START_ ваше время вышло _END\n",
              "24215    tom hates women        START_ том ненавидит женщин _END\n",
              "35721  are they brothers                  START_ они братья _END\n",
              "29257   i need some time   START_ мне нужно некоторое время _END"
            ]
          },
          "metadata": {
            "tags": []
          },
          "execution_count": 19
        }
      ]
    },
    {
      "cell_type": "code",
      "metadata": {
        "ExecuteTime": {
          "end_time": "2020-06-15T12:19:20.217018Z",
          "start_time": "2020-06-15T12:19:20.186460Z"
        },
        "id": "szGJAm0zfpq-",
        "colab_type": "code",
        "colab": {
          "base_uri": "https://localhost:8080/",
          "height": 32
        },
        "outputId": "8037164a-5ea2-4ccd-d7b8-ae2ac7ca120d"
      },
      "source": [
        "#Split the data into train and test\n",
        "X, y = lines.rus, lines.eng\n",
        "X_train, X_test, y_train, y_test = train_test_split(X, y, test_size = 0.1)\n",
        "X_train.shape, X_test.shape"
      ],
      "execution_count": null,
      "outputs": [
        {
          "output_type": "execute_result",
          "data": {
            "text/plain": [
              "((34826,), (3870,))"
            ]
          },
          "metadata": {
            "tags": []
          },
          "execution_count": 20
        }
      ]
    },
    {
      "cell_type": "code",
      "metadata": {
        "ExecuteTime": {
          "end_time": "2020-06-15T12:19:26.732784Z",
          "start_time": "2020-06-15T12:19:26.722532Z"
        },
        "id": "AuHY-vShfprC",
        "colab_type": "code",
        "colab": {}
      },
      "source": [
        "#Define a function which generates the data for train and test in batches\n",
        "\n",
        "def generate_batch(X = X_train, y = y_train, batch_size = 128):\n",
        "    ''' Generate a batch of data '''\n",
        "    while True:\n",
        "        for j in range(0, len(X), batch_size):\n",
        "            encoder_input_data = np.zeros((batch_size, max_length_src),dtype='float32')\n",
        "            decoder_input_data = np.zeros((batch_size, max_length_tar),dtype='float32')\n",
        "            decoder_target_data = np.zeros((batch_size, max_length_tar, num_decoder_tokens),dtype='float32')\n",
        "            for i, (input_text, target_text) in enumerate(zip(X[j:j+batch_size], y[j:j+batch_size])):\n",
        "                for t, word in enumerate(input_text.split()):\n",
        "                    encoder_input_data[i, t] = input_token_index[word] # encoder input seq\n",
        "                for t, word in enumerate(target_text.split()):\n",
        "                    if t<len(target_text.split())-1:\n",
        "                        decoder_input_data[i, t] = target_token_index[word] # decoder input seq\n",
        "                    if t>0:\n",
        "                        # decoder target sequence (one hot encoded)\n",
        "                        # does not include the START_ token\n",
        "                        # Offset by one timestep\n",
        "                        decoder_target_data[i, t - 1, target_token_index[word]] = 1.\n",
        "            yield([encoder_input_data, decoder_input_data], decoder_target_data)"
      ],
      "execution_count": null,
      "outputs": []
    },
    {
      "cell_type": "code",
      "metadata": {
        "ExecuteTime": {
          "end_time": "2020-06-15T12:19:28.312597Z",
          "start_time": "2020-06-15T12:19:28.309264Z"
        },
        "id": "gzmaoQq5fprE",
        "colab_type": "code",
        "colab": {}
      },
      "source": [
        "#Define the encoder-decoder architecture with GRU\n",
        "latent_dim = 50"
      ],
      "execution_count": null,
      "outputs": []
    },
    {
      "cell_type": "code",
      "metadata": {
        "id": "hEBo_qUHJ18B",
        "colab_type": "code",
        "colab": {}
      },
      "source": [
        "# Encoder\n",
        "encoder_inputs = Input(shape=(None,))\n",
        "enc_emb =  Embedding(num_encoder_tokens, latent_dim, mask_zero = True)(encoder_inputs)\n",
        "encoder_gru = GRU(latent_dim, return_state=True)\n",
        "encoder_outputs, state_h = encoder_gru(enc_emb)\n",
        "\n",
        "encoder_states = [state_h]"
      ],
      "execution_count": null,
      "outputs": []
    },
    {
      "cell_type": "code",
      "metadata": {
        "ExecuteTime": {
          "end_time": "2020-06-15T12:19:30.144938Z",
          "start_time": "2020-06-15T12:19:29.870289Z"
        },
        "id": "ggQiV7bffprH",
        "colab_type": "code",
        "colab": {}
      },
      "source": [
        "# Set up the decoder, using `encoder_states` as initial state.\n",
        "decoder_inputs = Input(shape=(None,))\n",
        "dec_emb_layer = Embedding(num_decoder_tokens, latent_dim, mask_zero = True)\n",
        "dec_emb = dec_emb_layer(decoder_inputs)\n",
        "\n",
        "decoder_gru = GRU(latent_dim, return_sequences=True, return_state=True)\n",
        "decoder_outputs, _ = decoder_gru(dec_emb, initial_state=encoder_states)\n",
        "decoder_dense = Dense(num_decoder_tokens, activation='softmax')\n",
        "decoder_outputs = decoder_dense(decoder_outputs)\n",
        "\n",
        "# Define the model that will turn `encoder_input_data` & `decoder_input_data` into `decoder_target_data`\n",
        "model = Model([encoder_inputs, decoder_inputs], decoder_outputs)"
      ],
      "execution_count": null,
      "outputs": []
    },
    {
      "cell_type": "code",
      "metadata": {
        "ExecuteTime": {
          "end_time": "2020-06-15T12:19:31.164527Z",
          "start_time": "2020-06-15T12:19:31.095185Z"
        },
        "id": "ItExpxSufprI",
        "colab_type": "code",
        "colab": {}
      },
      "source": [
        "model.compile(optimizer='rmsprop', loss='categorical_crossentropy', metrics=['acc'])"
      ],
      "execution_count": null,
      "outputs": []
    },
    {
      "cell_type": "code",
      "metadata": {
        "ExecuteTime": {
          "end_time": "2020-06-15T12:19:33.993626Z",
          "start_time": "2020-06-15T12:19:33.989212Z"
        },
        "id": "m6zVgrc1fprL",
        "colab_type": "code",
        "colab": {}
      },
      "source": [
        "train_samples = len(X_train)\n",
        "val_samples = len(X_test)\n",
        "batch_size = 32\n",
        "epochs = 100"
      ],
      "execution_count": null,
      "outputs": []
    },
    {
      "cell_type": "code",
      "metadata": {
        "id": "I7qFs1vQcfm1",
        "colab_type": "code",
        "colab": {}
      },
      "source": [
        "model.load_weights('/content/drive/My Drive/Colab Notebooks/weights_gru_en-ru.h5')"
      ],
      "execution_count": null,
      "outputs": []
    },
    {
      "cell_type": "code",
      "metadata": {
        "ExecuteTime": {
          "end_time": "2020-06-15T12:20:20.799119Z",
          "start_time": "2020-06-15T12:19:34.631953Z"
        },
        "id": "p6B83Y2yfprM",
        "colab_type": "code",
        "colab": {
          "base_uri": "https://localhost:8080/",
          "height": 1000
        },
        "outputId": "b0e3cbdd-15b7-45d7-ffc1-f4114e8d9477"
      },
      "source": [
        "print('Beginning Training!') \n",
        "current_time = datetime.datetime.now() \n",
        "\n",
        "model.fit_generator(generator = generate_batch(X_train, y_train, batch_size = batch_size),\n",
        "                    steps_per_epoch = 200,\n",
        "                    epochs=epochs,\n",
        "                    validation_data = generate_batch(X_test, y_test, batch_size = batch_size),\n",
        "                    validation_steps = val_samples//batch_size)\n",
        "\n",
        "print(\"Training took time \", datetime.datetime.now() - current_time)"
      ],
      "execution_count": null,
      "outputs": [
        {
          "output_type": "stream",
          "text": [
            "Beginning Training!\n"
          ],
          "name": "stdout"
        },
        {
          "output_type": "stream",
          "text": [
            "/usr/local/lib/python3.6/dist-packages/tensorflow/python/framework/indexed_slices.py:434: UserWarning: Converting sparse IndexedSlices to a dense Tensor of unknown shape. This may consume a large amount of memory.\n",
            "  \"Converting sparse IndexedSlices to a dense Tensor of unknown shape. \"\n"
          ],
          "name": "stderr"
        },
        {
          "output_type": "stream",
          "text": [
            "Epoch 1/100\n",
            "200/200 [==============================] - 55s 275ms/step - loss: 2.0421 - acc: 0.2601 - val_loss: 1.7672 - val_acc: 0.3067\n",
            "Epoch 2/100\n",
            "200/200 [==============================] - 53s 267ms/step - loss: 1.6788 - acc: 0.3177 - val_loss: 1.5683 - val_acc: 0.3207\n",
            "Epoch 3/100\n",
            "200/200 [==============================] - 53s 267ms/step - loss: 1.6388 - acc: 0.3266 - val_loss: 1.5567 - val_acc: 0.3358\n",
            "Epoch 4/100\n",
            "200/200 [==============================] - 53s 264ms/step - loss: 1.5845 - acc: 0.3450 - val_loss: 1.5489 - val_acc: 0.3453\n",
            "Epoch 5/100\n",
            "200/200 [==============================] - 53s 264ms/step - loss: 1.5592 - acc: 0.3494 - val_loss: 1.4195 - val_acc: 0.3535\n",
            "Epoch 6/100\n",
            "200/200 [==============================] - 53s 265ms/step - loss: 1.5400 - acc: 0.3568 - val_loss: 1.5298 - val_acc: 0.3609\n",
            "Epoch 7/100\n",
            "200/200 [==============================] - 53s 263ms/step - loss: 1.5100 - acc: 0.3650 - val_loss: 1.3436 - val_acc: 0.3640\n",
            "Epoch 8/100\n",
            "200/200 [==============================] - 53s 265ms/step - loss: 1.4850 - acc: 0.3742 - val_loss: 1.4635 - val_acc: 0.3744\n",
            "Epoch 9/100\n",
            "200/200 [==============================] - 53s 267ms/step - loss: 1.4846 - acc: 0.3831 - val_loss: 1.4034 - val_acc: 0.3834\n",
            "Epoch 10/100\n",
            "200/200 [==============================] - 53s 265ms/step - loss: 1.4489 - acc: 0.3906 - val_loss: 1.4629 - val_acc: 0.3904\n",
            "Epoch 11/100\n",
            "200/200 [==============================] - 53s 265ms/step - loss: 1.4165 - acc: 0.4029 - val_loss: 1.3755 - val_acc: 0.3993\n",
            "Epoch 12/100\n",
            "200/200 [==============================] - 53s 264ms/step - loss: 1.4164 - acc: 0.4064 - val_loss: 1.3204 - val_acc: 0.4120\n",
            "Epoch 13/100\n",
            "200/200 [==============================] - 53s 263ms/step - loss: 1.3805 - acc: 0.4190 - val_loss: 1.2756 - val_acc: 0.4176\n",
            "Epoch 14/100\n",
            "200/200 [==============================] - 54s 269ms/step - loss: 1.3878 - acc: 0.4210 - val_loss: 1.4468 - val_acc: 0.4223\n",
            "Epoch 15/100\n",
            "200/200 [==============================] - 53s 266ms/step - loss: 1.3588 - acc: 0.4283 - val_loss: 1.3413 - val_acc: 0.4271\n",
            "Epoch 16/100\n",
            "200/200 [==============================] - 54s 268ms/step - loss: 1.3395 - acc: 0.4368 - val_loss: 1.3951 - val_acc: 0.4350\n",
            "Epoch 17/100\n",
            "200/200 [==============================] - 53s 264ms/step - loss: 1.3332 - acc: 0.4383 - val_loss: 1.5933 - val_acc: 0.4363\n",
            "Epoch 18/100\n",
            "200/200 [==============================] - 53s 265ms/step - loss: 1.3178 - acc: 0.4437 - val_loss: 1.4874 - val_acc: 0.4435\n",
            "Epoch 19/100\n",
            "200/200 [==============================] - 53s 266ms/step - loss: 1.3156 - acc: 0.4461 - val_loss: 1.3243 - val_acc: 0.4459\n",
            "Epoch 20/100\n",
            "200/200 [==============================] - 53s 266ms/step - loss: 1.3136 - acc: 0.4490 - val_loss: 1.2834 - val_acc: 0.4477\n",
            "Epoch 21/100\n",
            "200/200 [==============================] - 53s 266ms/step - loss: 1.2892 - acc: 0.4557 - val_loss: 1.4671 - val_acc: 0.4518\n",
            "Epoch 22/100\n",
            "200/200 [==============================] - 52s 260ms/step - loss: 1.2761 - acc: 0.4606 - val_loss: 1.3001 - val_acc: 0.4571\n",
            "Epoch 23/100\n",
            "200/200 [==============================] - 52s 262ms/step - loss: 1.2803 - acc: 0.4590 - val_loss: 1.2626 - val_acc: 0.4595\n",
            "Epoch 24/100\n",
            "200/200 [==============================] - 53s 263ms/step - loss: 1.2592 - acc: 0.4668 - val_loss: 1.2570 - val_acc: 0.4642\n",
            "Epoch 25/100\n",
            "200/200 [==============================] - 54s 269ms/step - loss: 1.2755 - acc: 0.4664 - val_loss: 1.3931 - val_acc: 0.4649\n",
            "Epoch 26/100\n",
            "200/200 [==============================] - 53s 266ms/step - loss: 1.2531 - acc: 0.4696 - val_loss: 1.3187 - val_acc: 0.4722\n",
            "Epoch 27/100\n",
            "200/200 [==============================] - 53s 263ms/step - loss: 1.2373 - acc: 0.4780 - val_loss: 1.2775 - val_acc: 0.4736\n",
            "Epoch 28/100\n",
            "200/200 [==============================] - 53s 263ms/step - loss: 1.2391 - acc: 0.4762 - val_loss: 1.2439 - val_acc: 0.4729\n",
            "Epoch 29/100\n",
            "200/200 [==============================] - 53s 266ms/step - loss: 1.2284 - acc: 0.4809 - val_loss: 1.3275 - val_acc: 0.4771\n",
            "Epoch 30/100\n",
            "200/200 [==============================] - 53s 266ms/step - loss: 1.2301 - acc: 0.4802 - val_loss: 1.3318 - val_acc: 0.4788\n",
            "Epoch 31/100\n",
            "200/200 [==============================] - 53s 267ms/step - loss: 1.2317 - acc: 0.4823 - val_loss: 1.3961 - val_acc: 0.4819\n",
            "Epoch 32/100\n",
            "200/200 [==============================] - 53s 266ms/step - loss: 1.2127 - acc: 0.4889 - val_loss: 1.5093 - val_acc: 0.4841\n",
            "Epoch 33/100\n",
            "200/200 [==============================] - 57s 284ms/step - loss: 1.2090 - acc: 0.4905 - val_loss: 1.2104 - val_acc: 0.4863\n",
            "Epoch 34/100\n",
            "200/200 [==============================] - 53s 264ms/step - loss: 1.2086 - acc: 0.4873 - val_loss: 1.3534 - val_acc: 0.4864\n",
            "Epoch 35/100\n",
            "200/200 [==============================] - 53s 265ms/step - loss: 1.1946 - acc: 0.4946 - val_loss: 1.2781 - val_acc: 0.4888\n",
            "Epoch 36/100\n",
            "200/200 [==============================] - 53s 266ms/step - loss: 1.2092 - acc: 0.4919 - val_loss: 1.1968 - val_acc: 0.4890\n",
            "Epoch 37/100\n",
            "200/200 [==============================] - 53s 263ms/step - loss: 1.2072 - acc: 0.4946 - val_loss: 1.2136 - val_acc: 0.4927\n",
            "Epoch 38/100\n",
            "200/200 [==============================] - 53s 263ms/step - loss: 1.1786 - acc: 0.5029 - val_loss: 1.2098 - val_acc: 0.4928\n",
            "Epoch 39/100\n",
            "200/200 [==============================] - 53s 267ms/step - loss: 1.1864 - acc: 0.4999 - val_loss: 1.1715 - val_acc: 0.4952\n",
            "Epoch 40/100\n",
            "200/200 [==============================] - 53s 263ms/step - loss: 1.1834 - acc: 0.5030 - val_loss: 1.4361 - val_acc: 0.4953\n",
            "Epoch 41/100\n",
            "200/200 [==============================] - 52s 260ms/step - loss: 1.1964 - acc: 0.4985 - val_loss: 1.1190 - val_acc: 0.4993\n",
            "Epoch 42/100\n",
            "200/200 [==============================] - 52s 262ms/step - loss: 1.1957 - acc: 0.5043 - val_loss: 1.2257 - val_acc: 0.4972\n",
            "Epoch 43/100\n",
            "200/200 [==============================] - 52s 262ms/step - loss: 1.1918 - acc: 0.5094 - val_loss: 1.4024 - val_acc: 0.4988\n",
            "Epoch 44/100\n",
            "200/200 [==============================] - 53s 264ms/step - loss: 1.1903 - acc: 0.5094 - val_loss: 1.2223 - val_acc: 0.5006\n",
            "Epoch 45/100\n",
            "200/200 [==============================] - 53s 263ms/step - loss: 1.1883 - acc: 0.5096 - val_loss: 1.2030 - val_acc: 0.5027\n",
            "Epoch 46/100\n",
            "200/200 [==============================] - 52s 262ms/step - loss: 1.1998 - acc: 0.5114 - val_loss: 1.4375 - val_acc: 0.5048\n",
            "Epoch 47/100\n",
            "200/200 [==============================] - 52s 261ms/step - loss: 1.2230 - acc: 0.5106 - val_loss: 1.3916 - val_acc: 0.5057\n",
            "Epoch 48/100\n",
            "200/200 [==============================] - 56s 278ms/step - loss: 1.2216 - acc: 0.5141 - val_loss: 1.3019 - val_acc: 0.5102\n",
            "Epoch 49/100\n",
            "200/200 [==============================] - 52s 260ms/step - loss: 1.1991 - acc: 0.5205 - val_loss: 1.2247 - val_acc: 0.5086\n",
            "Epoch 50/100\n",
            "200/200 [==============================] - 52s 262ms/step - loss: 1.2110 - acc: 0.5163 - val_loss: 1.2706 - val_acc: 0.5120\n",
            "Epoch 51/100\n",
            "200/200 [==============================] - 52s 261ms/step - loss: 1.2086 - acc: 0.5201 - val_loss: 1.4415 - val_acc: 0.5118\n",
            "Epoch 52/100\n",
            "200/200 [==============================] - 57s 283ms/step - loss: 1.2373 - acc: 0.5136 - val_loss: 1.2087 - val_acc: 0.5115\n",
            "Epoch 53/100\n",
            "200/200 [==============================] - 52s 262ms/step - loss: 1.2234 - acc: 0.5194 - val_loss: 1.4674 - val_acc: 0.5130\n",
            "Epoch 54/100\n",
            "200/200 [==============================] - 53s 263ms/step - loss: 1.2187 - acc: 0.5241 - val_loss: 1.1852 - val_acc: 0.5147\n",
            "Epoch 55/100\n",
            "200/200 [==============================] - 52s 261ms/step - loss: 1.2212 - acc: 0.5250 - val_loss: 1.1872 - val_acc: 0.5129\n",
            "Epoch 56/100\n",
            "200/200 [==============================] - 53s 263ms/step - loss: 1.2178 - acc: 0.5214 - val_loss: 1.1960 - val_acc: 0.5153\n",
            "Epoch 57/100\n",
            "200/200 [==============================] - 52s 262ms/step - loss: 1.2213 - acc: 0.5238 - val_loss: 1.2472 - val_acc: 0.5175\n",
            "Epoch 58/100\n",
            "200/200 [==============================] - 52s 260ms/step - loss: 1.2335 - acc: 0.5242 - val_loss: 1.4702 - val_acc: 0.5183\n",
            "Epoch 59/100\n",
            "200/200 [==============================] - 52s 259ms/step - loss: 1.2238 - acc: 0.5253 - val_loss: 1.1643 - val_acc: 0.5196\n",
            "Epoch 60/100\n",
            "200/200 [==============================] - 52s 261ms/step - loss: 1.2065 - acc: 0.5307 - val_loss: 1.2720 - val_acc: 0.5188\n",
            "Epoch 61/100\n",
            "200/200 [==============================] - 53s 264ms/step - loss: 1.2234 - acc: 0.5294 - val_loss: 1.4130 - val_acc: 0.5213\n",
            "Epoch 62/100\n",
            "200/200 [==============================] - 53s 266ms/step - loss: 1.2129 - acc: 0.5291 - val_loss: 1.5752 - val_acc: 0.5215\n",
            "Epoch 63/100\n",
            "200/200 [==============================] - 52s 261ms/step - loss: 1.2338 - acc: 0.5267 - val_loss: 1.3528 - val_acc: 0.5238\n",
            "Epoch 64/100\n",
            "200/200 [==============================] - 53s 263ms/step - loss: 1.2229 - acc: 0.5299 - val_loss: 1.4125 - val_acc: 0.5228\n",
            "Epoch 65/100\n",
            "200/200 [==============================] - 53s 263ms/step - loss: 1.2177 - acc: 0.5334 - val_loss: 1.3066 - val_acc: 0.5223\n",
            "Epoch 66/100\n",
            "200/200 [==============================] - 53s 263ms/step - loss: 1.2122 - acc: 0.5379 - val_loss: 1.5901 - val_acc: 0.5235\n",
            "Epoch 67/100\n",
            "200/200 [==============================] - 54s 269ms/step - loss: 1.2190 - acc: 0.5335 - val_loss: 1.1142 - val_acc: 0.5252\n",
            "Epoch 68/100\n",
            "200/200 [==============================] - 53s 264ms/step - loss: 1.2209 - acc: 0.5346 - val_loss: 1.3339 - val_acc: 0.5263\n",
            "Epoch 69/100\n",
            "200/200 [==============================] - 52s 260ms/step - loss: 1.2264 - acc: 0.5329 - val_loss: 1.4496 - val_acc: 0.5239\n",
            "Epoch 70/100\n",
            "200/200 [==============================] - 53s 265ms/step - loss: 1.2165 - acc: 0.5368 - val_loss: 1.3101 - val_acc: 0.5279\n",
            "Epoch 71/100\n",
            "200/200 [==============================] - 53s 267ms/step - loss: 1.2081 - acc: 0.5394 - val_loss: 1.2328 - val_acc: 0.5277\n",
            "Epoch 72/100\n",
            "200/200 [==============================] - 53s 266ms/step - loss: 1.2171 - acc: 0.5390 - val_loss: 1.2087 - val_acc: 0.5282\n",
            "Epoch 73/100\n",
            "200/200 [==============================] - 54s 269ms/step - loss: 1.2105 - acc: 0.5410 - val_loss: 1.3484 - val_acc: 0.5271\n",
            "Epoch 74/100\n",
            "200/200 [==============================] - 54s 268ms/step - loss: 1.2286 - acc: 0.5357 - val_loss: 1.3875 - val_acc: 0.5294\n",
            "Epoch 75/100\n",
            "200/200 [==============================] - 53s 267ms/step - loss: 1.2200 - acc: 0.5395 - val_loss: 1.3615 - val_acc: 0.5318\n",
            "Epoch 76/100\n",
            "200/200 [==============================] - 53s 267ms/step - loss: 1.2113 - acc: 0.5422 - val_loss: 1.1572 - val_acc: 0.5307\n",
            "Epoch 77/100\n",
            "200/200 [==============================] - 53s 267ms/step - loss: 1.2078 - acc: 0.5460 - val_loss: 1.2515 - val_acc: 0.5316\n",
            "Epoch 78/100\n",
            "200/200 [==============================] - 53s 264ms/step - loss: 1.2157 - acc: 0.5442 - val_loss: 1.2389 - val_acc: 0.5333\n",
            "Epoch 79/100\n",
            "200/200 [==============================] - 54s 272ms/step - loss: 1.2144 - acc: 0.5428 - val_loss: 1.2128 - val_acc: 0.5332\n",
            "Epoch 80/100\n",
            "200/200 [==============================] - 53s 266ms/step - loss: 1.2236 - acc: 0.5414 - val_loss: 1.4590 - val_acc: 0.5318\n",
            "Epoch 81/100\n",
            "200/200 [==============================] - 53s 267ms/step - loss: 1.2148 - acc: 0.5463 - val_loss: 1.2344 - val_acc: 0.5321\n",
            "Epoch 82/100\n",
            "200/200 [==============================] - 54s 270ms/step - loss: 1.2066 - acc: 0.5482 - val_loss: 1.3306 - val_acc: 0.5333\n",
            "Epoch 83/100\n",
            "200/200 [==============================] - 54s 269ms/step - loss: 1.2112 - acc: 0.5483 - val_loss: 1.2935 - val_acc: 0.5344\n",
            "Epoch 84/100\n",
            "200/200 [==============================] - 53s 267ms/step - loss: 1.2058 - acc: 0.5505 - val_loss: 1.3122 - val_acc: 0.5351\n",
            "Epoch 85/100\n",
            "200/200 [==============================] - 53s 267ms/step - loss: 1.2240 - acc: 0.5449 - val_loss: 1.3391 - val_acc: 0.5344\n",
            "Epoch 86/100\n",
            "200/200 [==============================] - 53s 264ms/step - loss: 1.2252 - acc: 0.5464 - val_loss: 1.3156 - val_acc: 0.5343\n",
            "Epoch 87/100\n",
            "200/200 [==============================] - 53s 265ms/step - loss: 1.1999 - acc: 0.5537 - val_loss: 1.3713 - val_acc: 0.5354\n",
            "Epoch 88/100\n",
            "200/200 [==============================] - 53s 264ms/step - loss: 1.2030 - acc: 0.5553 - val_loss: 1.2427 - val_acc: 0.5359\n",
            "Epoch 89/100\n",
            "200/200 [==============================] - 53s 265ms/step - loss: 1.2105 - acc: 0.5529 - val_loss: 1.3813 - val_acc: 0.5349\n",
            "Epoch 90/100\n",
            "200/200 [==============================] - 53s 266ms/step - loss: 1.2163 - acc: 0.5481 - val_loss: 1.2883 - val_acc: 0.5386\n",
            "Epoch 91/100\n",
            "200/200 [==============================] - 54s 272ms/step - loss: 1.2204 - acc: 0.5507 - val_loss: 1.4814 - val_acc: 0.5374\n",
            "Epoch 92/100\n",
            "200/200 [==============================] - 54s 269ms/step - loss: 1.2095 - acc: 0.5544 - val_loss: 1.4454 - val_acc: 0.5374\n",
            "Epoch 93/100\n",
            "200/200 [==============================] - 53s 266ms/step - loss: 1.2066 - acc: 0.5557 - val_loss: 1.4286 - val_acc: 0.5389\n",
            "Epoch 94/100\n",
            "200/200 [==============================] - 54s 270ms/step - loss: 1.2054 - acc: 0.5572 - val_loss: 1.2666 - val_acc: 0.5391\n",
            "Epoch 95/100\n",
            "200/200 [==============================] - 54s 269ms/step - loss: 1.2053 - acc: 0.5575 - val_loss: 1.2797 - val_acc: 0.5380\n",
            "Epoch 96/100\n",
            "200/200 [==============================] - 54s 268ms/step - loss: 1.2222 - acc: 0.5530 - val_loss: 1.1464 - val_acc: 0.5388\n",
            "Epoch 97/100\n",
            "200/200 [==============================] - 54s 271ms/step - loss: 1.2145 - acc: 0.5536 - val_loss: 1.2496 - val_acc: 0.5392\n",
            "Epoch 98/100\n",
            "200/200 [==============================] - 54s 271ms/step - loss: 1.1994 - acc: 0.5607 - val_loss: 1.4680 - val_acc: 0.5402\n",
            "Epoch 99/100\n",
            "200/200 [==============================] - 54s 269ms/step - loss: 1.2048 - acc: 0.5597 - val_loss: 1.1261 - val_acc: 0.5400\n",
            "Epoch 100/100\n",
            "200/200 [==============================] - 54s 268ms/step - loss: 1.2015 - acc: 0.5606 - val_loss: 1.2691 - val_acc: 0.5394\n",
            "Training took time  1:28:35.886135\n"
          ],
          "name": "stdout"
        }
      ]
    },
    {
      "cell_type": "code",
      "metadata": {
        "id": "s-3D6DmL5Vdm",
        "colab_type": "code",
        "colab": {}
      },
      "source": [
        "model.save_weights('/content/drive/My Drive/Colab Notebooks/weights_gru_en-ru.h5')"
      ],
      "execution_count": null,
      "outputs": []
    },
    {
      "cell_type": "markdown",
      "metadata": {
        "id": "BWUZPq-UfprQ",
        "colab_type": "text"
      },
      "source": [
        "### Inference Setup"
      ]
    },
    {
      "cell_type": "code",
      "metadata": {
        "id": "TAKdZjgNfprR",
        "colab_type": "code",
        "colab": {}
      },
      "source": [
        "# Encode the input sequence to get the \"thought vectors\"\n",
        "encoder_model = Model(encoder_inputs, encoder_states)\n",
        "\n",
        "# Decoder setup\n",
        "# Below tensors will hold the states of the previous time step\n",
        "decoder_state_input_h = Input(shape=(latent_dim,))\n",
        "decoder_states_inputs = [decoder_state_input_h]\n",
        "\n",
        "dec_emb2= dec_emb_layer(decoder_inputs) # Get the embeddings of the decoder sequence\n",
        "\n",
        "# To predict the next word in the sequence, set the initial states to the states from the previous time step\n",
        "decoder_outputs2, state_h2= decoder_gru(dec_emb2, initial_state=decoder_states_inputs)\n",
        "decoder_states2 = [state_h2]\n",
        "decoder_outputs2 = decoder_dense(decoder_outputs2) # A dense softmax layer to generate prob dist. over the target vocabulary\n",
        "\n",
        "# Final decoder model\n",
        "decoder_model = Model(\n",
        "    [decoder_inputs] + decoder_states_inputs,\n",
        "    [decoder_outputs2] + decoder_states2)"
      ],
      "execution_count": null,
      "outputs": []
    },
    {
      "cell_type": "code",
      "metadata": {
        "id": "074ATvPsfprV",
        "colab_type": "code",
        "colab": {}
      },
      "source": [
        "#Finally, generate the output by defining the following function and later calling it.\n",
        "\n",
        "def decode_sequence(input_seq):\n",
        "    # Encode the input as state vectors.\n",
        "    states_value = encoder_model.predict(input_seq)\n",
        "    # Generate empty target sequence of length 1.\n",
        "    target_seq = np.zeros((1,1))\n",
        "    # Populate the first character of target sequence with the start character.\n",
        "    target_seq[0, 0] = target_token_index['START_']\n",
        "\n",
        "    # Sampling loop for a batch of sequences\n",
        "    # (to simplify, here we assume a batch of size 1).\n",
        "    stop_condition = False\n",
        "    decoded_sentence = ''\n",
        "    while not stop_condition:\n",
        "        output_tokens, h = decoder_model.predict([target_seq] + states_value)\n",
        "\n",
        "        # Sample a token\n",
        "        sampled_token_index = np.argmax(output_tokens[0, -1, :])\n",
        "        sampled_char = reverse_target_char_index[sampled_token_index]\n",
        "        decoded_sentence += ' '+sampled_char\n",
        "\n",
        "        # Exit condition: either hit max length\n",
        "        # or find stop character.\n",
        "        if (sampled_char == '_END' or\n",
        "           len(decoded_sentence) > 50):\n",
        "            stop_condition = True\n",
        "\n",
        "        # Update the target sequence (of length 1).\n",
        "        target_seq = np.zeros((1,1))\n",
        "        target_seq[0, 0] = sampled_token_index\n",
        "\n",
        "        # Update states\n",
        "        states_value = [h]\n",
        "\n",
        "    return decoded_sentence"
      ],
      "execution_count": null,
      "outputs": []
    },
    {
      "cell_type": "markdown",
      "metadata": {
        "id": "ak0yGzP0fprX",
        "colab_type": "text"
      },
      "source": [
        "### Evaluation on Train Dataset"
      ]
    },
    {
      "cell_type": "code",
      "metadata": {
        "id": "FvYXFQpYfprX",
        "colab_type": "code",
        "colab": {}
      },
      "source": [
        "train_gen = generate_batch(X_train, y_train, batch_size = 1)\n",
        "k=-1"
      ],
      "execution_count": null,
      "outputs": []
    },
    {
      "cell_type": "code",
      "metadata": {
        "id": "Zhs4v0cTvIbe",
        "colab_type": "code",
        "colab": {
          "base_uri": "https://localhost:8080/",
          "height": 181
        },
        "outputId": "6aee54ce-af09-4198-fbca-0035e185a487"
      },
      "source": [
        "k+=1\n",
        "(input_seq, actual_output), _ = next(train_gen)\n",
        "decoded_sentence = decode_sequence(input_seq)\n",
        "print('\\033[1m'+ 'Input English sentence:' +'\\033[0m', X_train[k:k+1].values[0])\n",
        "print('\\033[1m'+ 'Actual Russian translation:' +'\\033[0m', y_train[k:k+1].values[0][6:-4])\n",
        "print('\\033[1m'+ 'Predicted Russian translation:' +'\\033[0m', decoded_sentence[:-4])\n",
        "nubia.score( y_train[k:k+1].values[0][6:-4], decoded_sentence[:-4], verbose=True)"
      ],
      "execution_count": null,
      "outputs": [
        {
          "output_type": "stream",
          "text": [
            "\u001b[1mInput English sentence:\u001b[0m tom walks slowly\n",
            "\u001b[1mActual Russian translation:\u001b[0m  том медленно ходит \n",
            "\u001b[1mPredicted Russian translation:\u001b[0m  том не сделал \n",
            "Semantic relation: 3.128223180770874/5.0\n",
            "Percent chance of contradiction: 30.836594104766846%\n",
            "Percent chance of irrelevancy or new information: 18.20550560951233%\n",
            "Percent chance of logical agreement: 50.9579062461853%\n",
            "\n",
            "NUBIA score: 0.5695989148134808/1.0\n"
          ],
          "name": "stdout"
        },
        {
          "output_type": "execute_result",
          "data": {
            "text/plain": [
              "0.5695989148134808"
            ]
          },
          "metadata": {
            "tags": []
          },
          "execution_count": 40
        }
      ]
    },
    {
      "cell_type": "code",
      "metadata": {
        "id": "4R1GwN-u6ZH0",
        "colab_type": "code",
        "colab": {
          "base_uri": "https://localhost:8080/",
          "height": 181
        },
        "outputId": "00ddb37f-c709-4751-d0ce-5308b0ef8f8f"
      },
      "source": [
        "k+=1\n",
        "(input_seq, actual_output), _ = next(train_gen)\n",
        "decoded_sentence = decode_sequence(input_seq)\n",
        "print('\\033[1m'+ 'Input English sentence:' +'\\033[0m', X_train[k:k+1].values[0])\n",
        "print('\\033[1m'+ 'Actual Russian translation:' +'\\033[0m', y_train[k:k+1].values[0][6:-4])\n",
        "print('\\033[1m'+ 'Predicted Russian translation:' +'\\033[0m', decoded_sentence[:-4])\n",
        "nubia.score( y_train[k:k+1].values[0][6:-4], decoded_sentence[:-4], verbose=True)"
      ],
      "execution_count": null,
      "outputs": [
        {
          "output_type": "stream",
          "text": [
            "\u001b[1mInput English sentence:\u001b[0m you annoy me\n",
            "\u001b[1mActual Russian translation:\u001b[0m  ты меня раздражаешь \n",
            "\u001b[1mPredicted Russian translation:\u001b[0m  ты меня хорошо \n",
            "Semantic relation: 3.476666212081909/5.0\n",
            "Percent chance of contradiction: 40.19489884376526%\n",
            "Percent chance of irrelevancy or new information: 22.544299066066742%\n",
            "Percent chance of logical agreement: 37.26080358028412%\n",
            "\n",
            "NUBIA score: 0.7194243850295775/1.0\n"
          ],
          "name": "stdout"
        },
        {
          "output_type": "execute_result",
          "data": {
            "text/plain": [
              "0.7194243850295775"
            ]
          },
          "metadata": {
            "tags": []
          },
          "execution_count": 46
        }
      ]
    },
    {
      "cell_type": "code",
      "metadata": {
        "id": "DRlbQTh-60IM",
        "colab_type": "code",
        "colab": {
          "base_uri": "https://localhost:8080/",
          "height": 181
        },
        "outputId": "f6c5ab1f-9870-4976-9170-05d73f372262"
      },
      "source": [
        "k+=1\n",
        "(input_seq, actual_output), _ = next(train_gen)\n",
        "decoded_sentence = decode_sequence(input_seq)\n",
        "print('\\033[1m'+ 'Input English sentence:' +'\\033[0m', X_train[k:k+1].values[0])\n",
        "print('\\033[1m'+ 'Actual Russian translation:' +'\\033[0m', y_train[k:k+1].values[0][6:-4])\n",
        "print('\\033[1m'+ 'Predicted Russian translation:' +'\\033[0m', decoded_sentence[:-4])\n",
        "nubia.score( y_train[k:k+1].values[0][6:-4], decoded_sentence[:-4], verbose=True)"
      ],
      "execution_count": null,
      "outputs": [
        {
          "output_type": "stream",
          "text": [
            "\u001b[1mInput English sentence:\u001b[0m its our fault\n",
            "\u001b[1mActual Russian translation:\u001b[0m  это наша ошибка \n",
            "\u001b[1mPredicted Russian translation:\u001b[0m  это на меня на безопасности \n",
            "Semantic relation: 2.735478401184082/5.0\n",
            "Percent chance of contradiction: 52.25428342819214%\n",
            "Percent chance of irrelevancy or new information: 22.091561555862427%\n",
            "Percent chance of logical agreement: 25.654152035713196%\n",
            "\n",
            "NUBIA score: 0.48014946428294925/1.0\n"
          ],
          "name": "stdout"
        },
        {
          "output_type": "execute_result",
          "data": {
            "text/plain": [
              "0.48014946428294925"
            ]
          },
          "metadata": {
            "tags": []
          },
          "execution_count": 47
        }
      ]
    },
    {
      "cell_type": "code",
      "metadata": {
        "id": "P6FhqpaL69EJ",
        "colab_type": "code",
        "colab": {
          "base_uri": "https://localhost:8080/",
          "height": 181
        },
        "outputId": "07e0a2ff-4201-42ff-feb4-19dbad4f6c56"
      },
      "source": [
        "k+=1\n",
        "(input_seq, actual_output), _ = next(train_gen)\n",
        "decoded_sentence = decode_sequence(input_seq)\n",
        "print('\\033[1m'+ 'Input English sentence:' +'\\033[0m', X_train[k:k+1].values[0])\n",
        "print('\\033[1m'+ 'Actual Russian translation:' +'\\033[0m', y_train[k:k+1].values[0][6:-4])\n",
        "print('\\033[1m'+ 'Predicted Russian translation:' +'\\033[0m', decoded_sentence[:-4])\n",
        "nubia.score( y_train[k:k+1].values[0][6:-4], decoded_sentence[:-4], verbose=True)"
      ],
      "execution_count": null,
      "outputs": [
        {
          "output_type": "stream",
          "text": [
            "\u001b[1mInput English sentence:\u001b[0m is that boy tom\n",
            "\u001b[1mActual Russian translation:\u001b[0m  тот мальчик том \n",
            "\u001b[1mPredicted Russian translation:\u001b[0m  это том может \n",
            "Semantic relation: 3.1597554683685303/5.0\n",
            "Percent chance of contradiction: 35.00945568084717%\n",
            "Percent chance of irrelevancy or new information: 21.459662914276123%\n",
            "Percent chance of logical agreement: 43.53088140487671%\n",
            "\n",
            "NUBIA score: 0.6359035882764927/1.0\n"
          ],
          "name": "stdout"
        },
        {
          "output_type": "execute_result",
          "data": {
            "text/plain": [
              "0.6359035882764927"
            ]
          },
          "metadata": {
            "tags": []
          },
          "execution_count": 48
        }
      ]
    },
    {
      "cell_type": "markdown",
      "metadata": {
        "id": "gx1mM4W8fpsv",
        "colab_type": "text"
      },
      "source": [
        "### Evaluation on Validation Dataset"
      ]
    },
    {
      "cell_type": "code",
      "metadata": {
        "id": "A0I34CZxfpsv",
        "colab_type": "code",
        "colab": {}
      },
      "source": [
        "val_gen = generate_batch(X_test, y_test, batch_size = 1)\n",
        "k=-1"
      ],
      "execution_count": null,
      "outputs": []
    },
    {
      "cell_type": "code",
      "metadata": {
        "id": "vv9eePYxfpsx",
        "colab_type": "code",
        "colab": {
          "base_uri": "https://localhost:8080/",
          "height": 181
        },
        "outputId": "c86ae2eb-573d-4c4d-8b7b-307e3785ef4e"
      },
      "source": [
        "k+=1\n",
        "(input_seq, actual_output), _ = next(val_gen)\n",
        "decoded_sentence = decode_sequence(input_seq)\n",
        "print('\\033[1m'+ 'Input English sentence:' +'\\033[0m', X_test[k:k+1].values[0])\n",
        "print('\\033[1m'+ 'Actual Russian translation:' +'\\033[0m', y_test[k:k+1].values[0][6:-4])\n",
        "print('\\033[1m'+ 'Predicted Russian translation:' +'\\033[0m', decoded_sentence[:-4])\n",
        "nubia.score( y_test[k:k+1].values[0][6:-4], decoded_sentence[:-4], verbose=True)"
      ],
      "execution_count": null,
      "outputs": [
        {
          "output_type": "stream",
          "text": [
            "\u001b[1mInput English sentence:\u001b[0m i havent slept\n",
            "\u001b[1mActual Russian translation:\u001b[0m  я не спала \n",
            "\u001b[1mPredicted Russian translation:\u001b[0m  я не буду \n",
            "Semantic relation: 2.7994284629821777/5.0\n",
            "Percent chance of contradiction: 68.13549399375916%\n",
            "Percent chance of irrelevancy or new information: 16.53662770986557%\n",
            "Percent chance of logical agreement: 15.327876806259155%\n",
            "\n",
            "NUBIA score: 0.39591831293184776/1.0\n"
          ],
          "name": "stdout"
        },
        {
          "output_type": "execute_result",
          "data": {
            "text/plain": [
              "0.39591831293184776"
            ]
          },
          "metadata": {
            "tags": []
          },
          "execution_count": 53
        }
      ]
    },
    {
      "cell_type": "code",
      "metadata": {
        "id": "pHa75jgtfpsx",
        "colab_type": "code",
        "colab": {
          "base_uri": "https://localhost:8080/",
          "height": 181
        },
        "outputId": "70dc47b7-bfd2-4e4d-af58-1897aefb4901"
      },
      "source": [
        "k+=1\n",
        "(input_seq, actual_output), _ = next(val_gen)\n",
        "decoded_sentence = decode_sequence(input_seq)\n",
        "print('\\033[1m'+ 'Input English sentence:' +'\\033[0m', X_test[k:k+1].values[0])\n",
        "print('\\033[1m'+ 'Actual Russian translation:' +'\\033[0m', y_test[k:k+1].values[0][6:-4])\n",
        "print('\\033[1m'+ 'Predicted Russian translation:' +'\\033[0m', decoded_sentence[:-4])\n",
        "nubia.score( y_test[k:k+1].values[0][6:-4], decoded_sentence[:-4], verbose=True)"
      ],
      "execution_count": null,
      "outputs": [
        {
          "output_type": "stream",
          "text": [
            "\u001b[1mInput English sentence:\u001b[0m tom is quite old\n",
            "\u001b[1mActual Russian translation:\u001b[0m  том довольно старый \n",
            "\u001b[1mPredicted Russian translation:\u001b[0m  том будет по вам было \n",
            "Semantic relation: 2.524473190307617/5.0\n",
            "Percent chance of contradiction: 28.008365631103516%\n",
            "Percent chance of irrelevancy or new information: 26.525476574897766%\n",
            "Percent chance of logical agreement: 45.46615183353424%\n",
            "\n",
            "NUBIA score: 0.38027500142071835/1.0\n"
          ],
          "name": "stdout"
        },
        {
          "output_type": "execute_result",
          "data": {
            "text/plain": [
              "0.38027500142071835"
            ]
          },
          "metadata": {
            "tags": []
          },
          "execution_count": 54
        }
      ]
    },
    {
      "cell_type": "code",
      "metadata": {
        "id": "MChVnBz0fptf",
        "colab_type": "code",
        "colab": {
          "base_uri": "https://localhost:8080/",
          "height": 181
        },
        "outputId": "f99de954-ae01-48ea-b82a-ab9585bc687f"
      },
      "source": [
        "k+=1\n",
        "(input_seq, actual_output), _ = next(val_gen)\n",
        "decoded_sentence = decode_sequence(input_seq)\n",
        "print('\\033[1m'+ 'Input English sentence:' +'\\033[0m', X_test[k:k+1].values[0])\n",
        "print('\\033[1m'+ 'Actual Russian translation:' +'\\033[0m', y_test[k:k+1].values[0][6:-4])\n",
        "print('\\033[1m'+ 'Predicted Russian translation:' +'\\033[0m', decoded_sentence[:-4])\n",
        "nubia.score( y_test[k:k+1].values[0][6:-4], decoded_sentence[:-4], verbose=True)"
      ],
      "execution_count": null,
      "outputs": [
        {
          "output_type": "stream",
          "text": [
            "\u001b[1mInput English sentence:\u001b[0m tom made a list\n",
            "\u001b[1mActual Russian translation:\u001b[0m  том составил список \n",
            "\u001b[1mPredicted Russian translation:\u001b[0m  том много хочет \n",
            "Semantic relation: 2.711337089538574/5.0\n",
            "Percent chance of contradiction: 41.66574478149414%\n",
            "Percent chance of irrelevancy or new information: 28.57167422771454%\n",
            "Percent chance of logical agreement: 29.762578010559082%\n",
            "\n",
            "NUBIA score: 0.4862690160993195/1.0\n"
          ],
          "name": "stdout"
        },
        {
          "output_type": "execute_result",
          "data": {
            "text/plain": [
              "0.4862690160993195"
            ]
          },
          "metadata": {
            "tags": []
          },
          "execution_count": 55
        }
      ]
    },
    {
      "cell_type": "code",
      "metadata": {
        "id": "j3GB2z0d6bi2",
        "colab_type": "code",
        "colab": {
          "base_uri": "https://localhost:8080/",
          "height": 181
        },
        "outputId": "98976b4e-449b-45ea-e00d-5fddbd18575e"
      },
      "source": [
        "k+=1\n",
        "(input_seq, actual_output), _ = next(val_gen)\n",
        "decoded_sentence = decode_sequence(input_seq)\n",
        "print('\\033[1m'+ 'Input English sentence:' +'\\033[0m', X_test[k:k+1].values[0])\n",
        "print('\\033[1m'+ 'Actual Russian translation:' +'\\033[0m', y_test[k:k+1].values[0][6:-4])\n",
        "print('\\033[1m'+ 'Predicted Russian translation:' +'\\033[0m', decoded_sentence[:-4])\n",
        "nubia.score( y_test[k:k+1].values[0][6:-4], decoded_sentence[:-4], verbose=True)"
      ],
      "execution_count": null,
      "outputs": [
        {
          "output_type": "stream",
          "text": [
            "\u001b[1mInput English sentence:\u001b[0m youll die soon\n",
            "\u001b[1mActual Russian translation:\u001b[0m  ты скоро умрёшь \n",
            "\u001b[1mPredicted Russian translation:\u001b[0m  ты не были это \n",
            "Semantic relation: 2.6292572021484375/5.0\n",
            "Percent chance of contradiction: 27.104103565216064%\n",
            "Percent chance of irrelevancy or new information: 30.35736083984375%\n",
            "Percent chance of logical agreement: 42.538535594940186%\n",
            "\n",
            "NUBIA score: 0.4560760059000859/1.0\n"
          ],
          "name": "stdout"
        },
        {
          "output_type": "execute_result",
          "data": {
            "text/plain": [
              "0.4560760059000859"
            ]
          },
          "metadata": {
            "tags": []
          },
          "execution_count": 56
        }
      ]
    },
    {
      "cell_type": "code",
      "metadata": {
        "id": "wLqke_HVdr0-",
        "colab_type": "code",
        "colab": {
          "base_uri": "https://localhost:8080/",
          "height": 181
        },
        "outputId": "10efd25b-5eaa-4b1c-993d-babf1acb7947"
      },
      "source": [
        "k+=1\n",
        "(input_seq, actual_output), _ = next(val_gen)\n",
        "decoded_sentence = decode_sequence(input_seq)\n",
        "print('\\033[1m'+ 'Input English sentence:' +'\\033[0m', X_test[k:k+1].values[0])\n",
        "print('\\033[1m'+ 'Actual Russian translation:' +'\\033[0m', y_test[k:k+1].values[0][6:-4])\n",
        "print('\\033[1m'+ 'Predicted Russian translation:' +'\\033[0m', decoded_sentence[:-4])\n",
        "nubia.score( y_test[k:k+1].values[0][6:-4], decoded_sentence[:-4], verbose=True)"
      ],
      "execution_count": null,
      "outputs": [
        {
          "output_type": "stream",
          "text": [
            "\u001b[1mInput English sentence:\u001b[0m tom needs to win\n",
            "\u001b[1mActual Russian translation:\u001b[0m  тому нужно выиграть \n",
            "\u001b[1mPredicted Russian translation:\u001b[0m  тому надо было помочь \n",
            "Semantic relation: 3.1197643280029297/5.0\n",
            "Percent chance of contradiction: 60.08906960487366%\n",
            "Percent chance of irrelevancy or new information: 15.328413248062134%\n",
            "Percent chance of logical agreement: 24.58251565694809%\n",
            "\n",
            "NUBIA score: 0.5638010657323294/1.0\n"
          ],
          "name": "stdout"
        },
        {
          "output_type": "execute_result",
          "data": {
            "text/plain": [
              "0.5638010657323294"
            ]
          },
          "metadata": {
            "tags": []
          },
          "execution_count": 57
        }
      ]
    },
    {
      "cell_type": "code",
      "metadata": {
        "id": "c4WofOIq6c23",
        "colab_type": "code",
        "colab": {
          "base_uri": "https://localhost:8080/",
          "height": 181
        },
        "outputId": "1222763c-a3d6-45dc-fbcb-9a0922e4fd73"
      },
      "source": [
        "k+=1\n",
        "(input_seq, actual_output), _ = next(val_gen)\n",
        "decoded_sentence = decode_sequence(input_seq)\n",
        "print('\\033[1m'+ 'Input English sentence:' +'\\033[0m', X_test[k:k+1].values[0])\n",
        "print('\\033[1m'+ 'Actual Russian translation:' +'\\033[0m', y_test[k:k+1].values[0][6:-4])\n",
        "print('\\033[1m'+ 'Predicted Russian translation:' +'\\033[0m', decoded_sentence[:-4])\n",
        "nubia.score( y_test[k:k+1].values[0][6:-4], decoded_sentence[:-4], verbose=True)"
      ],
      "execution_count": null,
      "outputs": [
        {
          "output_type": "stream",
          "text": [
            "\u001b[1mInput English sentence:\u001b[0m go straight home\n",
            "\u001b[1mActual Russian translation:\u001b[0m  идите прямо домой \n",
            "\u001b[1mPredicted Russian translation:\u001b[0m  иди домой \n",
            "Semantic relation: 3.6589882373809814/5.0\n",
            "Percent chance of contradiction: 20.60396820306778%\n",
            "Percent chance of irrelevancy or new information: 9.522321820259094%\n",
            "Percent chance of logical agreement: 69.87370252609253%\n",
            "\n",
            "NUBIA score: 0.6895109065367092/1.0\n"
          ],
          "name": "stdout"
        },
        {
          "output_type": "execute_result",
          "data": {
            "text/plain": [
              "0.6895109065367092"
            ]
          },
          "metadata": {
            "tags": []
          },
          "execution_count": 60
        }
      ]
    },
    {
      "cell_type": "code",
      "metadata": {
        "id": "FeBaBYr-gwjQ",
        "colab_type": "code",
        "colab": {
          "base_uri": "https://localhost:8080/",
          "height": 181
        },
        "outputId": "fa44ff4c-09d8-41f6-f8b0-5a6c33237fb6"
      },
      "source": [
        "k+=1\n",
        "(input_seq, actual_output), _ = next(val_gen)\n",
        "decoded_sentence = decode_sequence(input_seq)\n",
        "print('\\033[1m'+ 'Input English sentence:' +'\\033[0m', X_test[k:k+1].values[0])\n",
        "print('\\033[1m'+ 'Actual Russian translation:' +'\\033[0m', y_test[k:k+1].values[0][6:-4])\n",
        "print('\\033[1m'+ 'Predicted Russian translation:' +'\\033[0m', decoded_sentence[:-4])\n",
        "nubia.score( y_test[k:k+1].values[0][6:-4], decoded_sentence[:-4], verbose=True)"
      ],
      "execution_count": null,
      "outputs": [
        {
          "output_type": "stream",
          "text": [
            "\u001b[1mInput English sentence:\u001b[0m we won today\n",
            "\u001b[1mActual Russian translation:\u001b[0m  мы сегодня победили \n",
            "\u001b[1mPredicted Russian translation:\u001b[0m  мы сегодня сказал \n",
            "Semantic relation: 3.6313204765319824/5.0\n",
            "Percent chance of contradiction: 40.10644853115082%\n",
            "Percent chance of irrelevancy or new information: 22.932200133800507%\n",
            "Percent chance of logical agreement: 36.961349844932556%\n",
            "\n",
            "NUBIA score: 0.7944675224456467/1.0\n"
          ],
          "name": "stdout"
        },
        {
          "output_type": "execute_result",
          "data": {
            "text/plain": [
              "0.7944675224456467"
            ]
          },
          "metadata": {
            "tags": []
          },
          "execution_count": 62
        }
      ]
    }
  ]
}